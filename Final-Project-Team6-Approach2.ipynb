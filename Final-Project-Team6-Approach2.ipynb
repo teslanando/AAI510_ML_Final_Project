{
  "nbformat": 4,
  "nbformat_minor": 0,
  "metadata": {
    "colab": {
      "provenance": [],
      "toc_visible": true
    },
    "kernelspec": {
      "name": "python3",
      "display_name": "Python 3"
    },
    "language_info": {
      "name": "python"
    }
  },
  "cells": [
    {
      "cell_type": "markdown",
      "source": [
        "#Fraud detection in financial transactions"
      ],
      "metadata": {
        "id": "ow7i_dDve7d4"
      }
    },
    {
      "cell_type": "markdown",
      "source": [
        "To address the task of fraud detection in financial transactions, we will break down the process into the steps outlined.\n",
        "\n",
        "We'll start with data understanding and preparation, then modeling and evaluation.\n",
        "\n",
        "**Data Understanding**\n",
        "\n",
        "Data Inspection:\n",
        "\n",
        "* Check for missing values.\n",
        "\n",
        "* Check for class imbalance in the target variable (fraud).\n",
        "\n",
        "Data Summary:\n",
        "\n",
        "* Summary statistics of numerical features.\n",
        "\n",
        "* Distribution of categorical features.\n",
        "\n",
        "**Data Preparation**\n",
        "\n",
        "Handle Missing Values:\n",
        "\n",
        "* Fill or remove missing values.\n",
        "\n",
        "Address Class Imbalance:\n",
        "\n",
        "* Use techniques like SMOTE (Synthetic Minority Over-sampling Technique).\n",
        "\n",
        "Feature Engineering:\n",
        "\n",
        "* Create additional features based on transaction history and behavior.\n",
        "* Encode categorical variables if needed.\n",
        "\n",
        "Data Splitting:\n",
        "\n",
        "* Split the data into training and testing sets.\n",
        "\n",
        "Modeling Techniques:\n",
        "\n",
        "* Try different models: Random Forest, XGBoost, Neural Networks.\n",
        "\n",
        "Class Imbalance:\n",
        "\n",
        "* Use techniques like SMOTE during training.\n",
        "\n",
        "Hyperparameter Tuning:\n",
        "\n",
        "* Perform hyperparameter tuning to optimize the models.\n",
        "\n",
        "Evaluation Metrics:\n",
        "\n",
        "* Use Precision, Recall, F1 Score, ROC-AUC for evaluation.\n",
        "\n",
        "**Objective**\n",
        "\n",
        "Aim for the highest recall to detect as many fraudulent transactions as possible without significantly compromising precision."
      ],
      "metadata": {
        "id": "CYW540Mbe2if"
      }
    },
    {
      "cell_type": "markdown",
      "source": [
        "#Load the dataset"
      ],
      "metadata": {
        "id": "TzICivUyj5GQ"
      }
    },
    {
      "cell_type": "code",
      "execution_count": 1,
      "metadata": {
        "colab": {
          "base_uri": "https://localhost:8080/",
          "height": 444
        },
        "id": "xzgOR3ewj0DU",
        "outputId": "eaf5e98e-986e-4c2b-e3f1-1ada4066e6cf"
      },
      "outputs": [
        {
          "output_type": "execute_result",
          "data": {
            "text/plain": [
              "        distance_from_home  distance_from_last_transaction  \\\n",
              "0                57.877857                        0.311140   \n",
              "1                10.829943                        0.175592   \n",
              "2                 5.091079                        0.805153   \n",
              "3                 2.247564                        5.600044   \n",
              "4                44.190936                        0.566486   \n",
              "...                    ...                             ...   \n",
              "999990           20.334489                       11.437333   \n",
              "999991           26.807213                        0.102574   \n",
              "999992            9.844674                        0.250108   \n",
              "999993            4.846253                        2.844450   \n",
              "999994            3.295884                        0.085712   \n",
              "\n",
              "        ratio_to_median_purchase_price  repeat_retailer  used_chip  \\\n",
              "0                             1.945940              1.0        1.0   \n",
              "1                             1.294219              1.0        0.0   \n",
              "2                             0.427715              1.0        0.0   \n",
              "3                             0.362663              1.0        1.0   \n",
              "4                             2.222767              1.0        1.0   \n",
              "...                                ...              ...        ...   \n",
              "999990                        0.699527              1.0        1.0   \n",
              "999991                        2.746114              1.0        0.0   \n",
              "999992                        0.814046              1.0        0.0   \n",
              "999993                        0.867740              1.0        0.0   \n",
              "999994                        0.831991              1.0        0.0   \n",
              "\n",
              "        used_pin_number  online_order  fraud  \n",
              "0                   0.0           0.0    0.0  \n",
              "1                   0.0           0.0    0.0  \n",
              "2                   0.0           1.0    0.0  \n",
              "3                   0.0           1.0    0.0  \n",
              "4                   0.0           1.0    0.0  \n",
              "...                 ...           ...    ...  \n",
              "999990              0.0           1.0    0.0  \n",
              "999991              0.0           1.0    0.0  \n",
              "999992              0.0           1.0    0.0  \n",
              "999993              0.0           1.0    0.0  \n",
              "999994              0.0           1.0    0.0  \n",
              "\n",
              "[999995 rows x 8 columns]"
            ],
            "text/html": [
              "\n",
              "  <div id=\"df-e63d2d18-ee59-4e56-84ad-a7629c390fdb\" class=\"colab-df-container\">\n",
              "    <div>\n",
              "<style scoped>\n",
              "    .dataframe tbody tr th:only-of-type {\n",
              "        vertical-align: middle;\n",
              "    }\n",
              "\n",
              "    .dataframe tbody tr th {\n",
              "        vertical-align: top;\n",
              "    }\n",
              "\n",
              "    .dataframe thead th {\n",
              "        text-align: right;\n",
              "    }\n",
              "</style>\n",
              "<table border=\"1\" class=\"dataframe\">\n",
              "  <thead>\n",
              "    <tr style=\"text-align: right;\">\n",
              "      <th></th>\n",
              "      <th>distance_from_home</th>\n",
              "      <th>distance_from_last_transaction</th>\n",
              "      <th>ratio_to_median_purchase_price</th>\n",
              "      <th>repeat_retailer</th>\n",
              "      <th>used_chip</th>\n",
              "      <th>used_pin_number</th>\n",
              "      <th>online_order</th>\n",
              "      <th>fraud</th>\n",
              "    </tr>\n",
              "  </thead>\n",
              "  <tbody>\n",
              "    <tr>\n",
              "      <th>0</th>\n",
              "      <td>57.877857</td>\n",
              "      <td>0.311140</td>\n",
              "      <td>1.945940</td>\n",
              "      <td>1.0</td>\n",
              "      <td>1.0</td>\n",
              "      <td>0.0</td>\n",
              "      <td>0.0</td>\n",
              "      <td>0.0</td>\n",
              "    </tr>\n",
              "    <tr>\n",
              "      <th>1</th>\n",
              "      <td>10.829943</td>\n",
              "      <td>0.175592</td>\n",
              "      <td>1.294219</td>\n",
              "      <td>1.0</td>\n",
              "      <td>0.0</td>\n",
              "      <td>0.0</td>\n",
              "      <td>0.0</td>\n",
              "      <td>0.0</td>\n",
              "    </tr>\n",
              "    <tr>\n",
              "      <th>2</th>\n",
              "      <td>5.091079</td>\n",
              "      <td>0.805153</td>\n",
              "      <td>0.427715</td>\n",
              "      <td>1.0</td>\n",
              "      <td>0.0</td>\n",
              "      <td>0.0</td>\n",
              "      <td>1.0</td>\n",
              "      <td>0.0</td>\n",
              "    </tr>\n",
              "    <tr>\n",
              "      <th>3</th>\n",
              "      <td>2.247564</td>\n",
              "      <td>5.600044</td>\n",
              "      <td>0.362663</td>\n",
              "      <td>1.0</td>\n",
              "      <td>1.0</td>\n",
              "      <td>0.0</td>\n",
              "      <td>1.0</td>\n",
              "      <td>0.0</td>\n",
              "    </tr>\n",
              "    <tr>\n",
              "      <th>4</th>\n",
              "      <td>44.190936</td>\n",
              "      <td>0.566486</td>\n",
              "      <td>2.222767</td>\n",
              "      <td>1.0</td>\n",
              "      <td>1.0</td>\n",
              "      <td>0.0</td>\n",
              "      <td>1.0</td>\n",
              "      <td>0.0</td>\n",
              "    </tr>\n",
              "    <tr>\n",
              "      <th>...</th>\n",
              "      <td>...</td>\n",
              "      <td>...</td>\n",
              "      <td>...</td>\n",
              "      <td>...</td>\n",
              "      <td>...</td>\n",
              "      <td>...</td>\n",
              "      <td>...</td>\n",
              "      <td>...</td>\n",
              "    </tr>\n",
              "    <tr>\n",
              "      <th>999990</th>\n",
              "      <td>20.334489</td>\n",
              "      <td>11.437333</td>\n",
              "      <td>0.699527</td>\n",
              "      <td>1.0</td>\n",
              "      <td>1.0</td>\n",
              "      <td>0.0</td>\n",
              "      <td>1.0</td>\n",
              "      <td>0.0</td>\n",
              "    </tr>\n",
              "    <tr>\n",
              "      <th>999991</th>\n",
              "      <td>26.807213</td>\n",
              "      <td>0.102574</td>\n",
              "      <td>2.746114</td>\n",
              "      <td>1.0</td>\n",
              "      <td>0.0</td>\n",
              "      <td>0.0</td>\n",
              "      <td>1.0</td>\n",
              "      <td>0.0</td>\n",
              "    </tr>\n",
              "    <tr>\n",
              "      <th>999992</th>\n",
              "      <td>9.844674</td>\n",
              "      <td>0.250108</td>\n",
              "      <td>0.814046</td>\n",
              "      <td>1.0</td>\n",
              "      <td>0.0</td>\n",
              "      <td>0.0</td>\n",
              "      <td>1.0</td>\n",
              "      <td>0.0</td>\n",
              "    </tr>\n",
              "    <tr>\n",
              "      <th>999993</th>\n",
              "      <td>4.846253</td>\n",
              "      <td>2.844450</td>\n",
              "      <td>0.867740</td>\n",
              "      <td>1.0</td>\n",
              "      <td>0.0</td>\n",
              "      <td>0.0</td>\n",
              "      <td>1.0</td>\n",
              "      <td>0.0</td>\n",
              "    </tr>\n",
              "    <tr>\n",
              "      <th>999994</th>\n",
              "      <td>3.295884</td>\n",
              "      <td>0.085712</td>\n",
              "      <td>0.831991</td>\n",
              "      <td>1.0</td>\n",
              "      <td>0.0</td>\n",
              "      <td>0.0</td>\n",
              "      <td>1.0</td>\n",
              "      <td>0.0</td>\n",
              "    </tr>\n",
              "  </tbody>\n",
              "</table>\n",
              "<p>999995 rows × 8 columns</p>\n",
              "</div>\n",
              "    <div class=\"colab-df-buttons\">\n",
              "\n",
              "  <div class=\"colab-df-container\">\n",
              "    <button class=\"colab-df-convert\" onclick=\"convertToInteractive('df-e63d2d18-ee59-4e56-84ad-a7629c390fdb')\"\n",
              "            title=\"Convert this dataframe to an interactive table.\"\n",
              "            style=\"display:none;\">\n",
              "\n",
              "  <svg xmlns=\"http://www.w3.org/2000/svg\" height=\"24px\" viewBox=\"0 -960 960 960\">\n",
              "    <path d=\"M120-120v-720h720v720H120Zm60-500h600v-160H180v160Zm220 220h160v-160H400v160Zm0 220h160v-160H400v160ZM180-400h160v-160H180v160Zm440 0h160v-160H620v160ZM180-180h160v-160H180v160Zm440 0h160v-160H620v160Z\"/>\n",
              "  </svg>\n",
              "    </button>\n",
              "\n",
              "  <style>\n",
              "    .colab-df-container {\n",
              "      display:flex;\n",
              "      gap: 12px;\n",
              "    }\n",
              "\n",
              "    .colab-df-convert {\n",
              "      background-color: #E8F0FE;\n",
              "      border: none;\n",
              "      border-radius: 50%;\n",
              "      cursor: pointer;\n",
              "      display: none;\n",
              "      fill: #1967D2;\n",
              "      height: 32px;\n",
              "      padding: 0 0 0 0;\n",
              "      width: 32px;\n",
              "    }\n",
              "\n",
              "    .colab-df-convert:hover {\n",
              "      background-color: #E2EBFA;\n",
              "      box-shadow: 0px 1px 2px rgba(60, 64, 67, 0.3), 0px 1px 3px 1px rgba(60, 64, 67, 0.15);\n",
              "      fill: #174EA6;\n",
              "    }\n",
              "\n",
              "    .colab-df-buttons div {\n",
              "      margin-bottom: 4px;\n",
              "    }\n",
              "\n",
              "    [theme=dark] .colab-df-convert {\n",
              "      background-color: #3B4455;\n",
              "      fill: #D2E3FC;\n",
              "    }\n",
              "\n",
              "    [theme=dark] .colab-df-convert:hover {\n",
              "      background-color: #434B5C;\n",
              "      box-shadow: 0px 1px 3px 1px rgba(0, 0, 0, 0.15);\n",
              "      filter: drop-shadow(0px 1px 2px rgba(0, 0, 0, 0.3));\n",
              "      fill: #FFFFFF;\n",
              "    }\n",
              "  </style>\n",
              "\n",
              "    <script>\n",
              "      const buttonEl =\n",
              "        document.querySelector('#df-e63d2d18-ee59-4e56-84ad-a7629c390fdb button.colab-df-convert');\n",
              "      buttonEl.style.display =\n",
              "        google.colab.kernel.accessAllowed ? 'block' : 'none';\n",
              "\n",
              "      async function convertToInteractive(key) {\n",
              "        const element = document.querySelector('#df-e63d2d18-ee59-4e56-84ad-a7629c390fdb');\n",
              "        const dataTable =\n",
              "          await google.colab.kernel.invokeFunction('convertToInteractive',\n",
              "                                                    [key], {});\n",
              "        if (!dataTable) return;\n",
              "\n",
              "        const docLinkHtml = 'Like what you see? Visit the ' +\n",
              "          '<a target=\"_blank\" href=https://colab.research.google.com/notebooks/data_table.ipynb>data table notebook</a>'\n",
              "          + ' to learn more about interactive tables.';\n",
              "        element.innerHTML = '';\n",
              "        dataTable['output_type'] = 'display_data';\n",
              "        await google.colab.output.renderOutput(dataTable, element);\n",
              "        const docLink = document.createElement('div');\n",
              "        docLink.innerHTML = docLinkHtml;\n",
              "        element.appendChild(docLink);\n",
              "      }\n",
              "    </script>\n",
              "  </div>\n",
              "\n",
              "\n",
              "<div id=\"df-d0d239e2-2326-4964-abf0-a523013b5641\">\n",
              "  <button class=\"colab-df-quickchart\" onclick=\"quickchart('df-d0d239e2-2326-4964-abf0-a523013b5641')\"\n",
              "            title=\"Suggest charts\"\n",
              "            style=\"display:none;\">\n",
              "\n",
              "<svg xmlns=\"http://www.w3.org/2000/svg\" height=\"24px\"viewBox=\"0 0 24 24\"\n",
              "     width=\"24px\">\n",
              "    <g>\n",
              "        <path d=\"M19 3H5c-1.1 0-2 .9-2 2v14c0 1.1.9 2 2 2h14c1.1 0 2-.9 2-2V5c0-1.1-.9-2-2-2zM9 17H7v-7h2v7zm4 0h-2V7h2v10zm4 0h-2v-4h2v4z\"/>\n",
              "    </g>\n",
              "</svg>\n",
              "  </button>\n",
              "\n",
              "<style>\n",
              "  .colab-df-quickchart {\n",
              "      --bg-color: #E8F0FE;\n",
              "      --fill-color: #1967D2;\n",
              "      --hover-bg-color: #E2EBFA;\n",
              "      --hover-fill-color: #174EA6;\n",
              "      --disabled-fill-color: #AAA;\n",
              "      --disabled-bg-color: #DDD;\n",
              "  }\n",
              "\n",
              "  [theme=dark] .colab-df-quickchart {\n",
              "      --bg-color: #3B4455;\n",
              "      --fill-color: #D2E3FC;\n",
              "      --hover-bg-color: #434B5C;\n",
              "      --hover-fill-color: #FFFFFF;\n",
              "      --disabled-bg-color: #3B4455;\n",
              "      --disabled-fill-color: #666;\n",
              "  }\n",
              "\n",
              "  .colab-df-quickchart {\n",
              "    background-color: var(--bg-color);\n",
              "    border: none;\n",
              "    border-radius: 50%;\n",
              "    cursor: pointer;\n",
              "    display: none;\n",
              "    fill: var(--fill-color);\n",
              "    height: 32px;\n",
              "    padding: 0;\n",
              "    width: 32px;\n",
              "  }\n",
              "\n",
              "  .colab-df-quickchart:hover {\n",
              "    background-color: var(--hover-bg-color);\n",
              "    box-shadow: 0 1px 2px rgba(60, 64, 67, 0.3), 0 1px 3px 1px rgba(60, 64, 67, 0.15);\n",
              "    fill: var(--button-hover-fill-color);\n",
              "  }\n",
              "\n",
              "  .colab-df-quickchart-complete:disabled,\n",
              "  .colab-df-quickchart-complete:disabled:hover {\n",
              "    background-color: var(--disabled-bg-color);\n",
              "    fill: var(--disabled-fill-color);\n",
              "    box-shadow: none;\n",
              "  }\n",
              "\n",
              "  .colab-df-spinner {\n",
              "    border: 2px solid var(--fill-color);\n",
              "    border-color: transparent;\n",
              "    border-bottom-color: var(--fill-color);\n",
              "    animation:\n",
              "      spin 1s steps(1) infinite;\n",
              "  }\n",
              "\n",
              "  @keyframes spin {\n",
              "    0% {\n",
              "      border-color: transparent;\n",
              "      border-bottom-color: var(--fill-color);\n",
              "      border-left-color: var(--fill-color);\n",
              "    }\n",
              "    20% {\n",
              "      border-color: transparent;\n",
              "      border-left-color: var(--fill-color);\n",
              "      border-top-color: var(--fill-color);\n",
              "    }\n",
              "    30% {\n",
              "      border-color: transparent;\n",
              "      border-left-color: var(--fill-color);\n",
              "      border-top-color: var(--fill-color);\n",
              "      border-right-color: var(--fill-color);\n",
              "    }\n",
              "    40% {\n",
              "      border-color: transparent;\n",
              "      border-right-color: var(--fill-color);\n",
              "      border-top-color: var(--fill-color);\n",
              "    }\n",
              "    60% {\n",
              "      border-color: transparent;\n",
              "      border-right-color: var(--fill-color);\n",
              "    }\n",
              "    80% {\n",
              "      border-color: transparent;\n",
              "      border-right-color: var(--fill-color);\n",
              "      border-bottom-color: var(--fill-color);\n",
              "    }\n",
              "    90% {\n",
              "      border-color: transparent;\n",
              "      border-bottom-color: var(--fill-color);\n",
              "    }\n",
              "  }\n",
              "</style>\n",
              "\n",
              "  <script>\n",
              "    async function quickchart(key) {\n",
              "      const quickchartButtonEl =\n",
              "        document.querySelector('#' + key + ' button');\n",
              "      quickchartButtonEl.disabled = true;  // To prevent multiple clicks.\n",
              "      quickchartButtonEl.classList.add('colab-df-spinner');\n",
              "      try {\n",
              "        const charts = await google.colab.kernel.invokeFunction(\n",
              "            'suggestCharts', [key], {});\n",
              "      } catch (error) {\n",
              "        console.error('Error during call to suggestCharts:', error);\n",
              "      }\n",
              "      quickchartButtonEl.classList.remove('colab-df-spinner');\n",
              "      quickchartButtonEl.classList.add('colab-df-quickchart-complete');\n",
              "    }\n",
              "    (() => {\n",
              "      let quickchartButtonEl =\n",
              "        document.querySelector('#df-d0d239e2-2326-4964-abf0-a523013b5641 button');\n",
              "      quickchartButtonEl.style.display =\n",
              "        google.colab.kernel.accessAllowed ? 'block' : 'none';\n",
              "    })();\n",
              "  </script>\n",
              "</div>\n",
              "    </div>\n",
              "  </div>\n"
            ],
            "application/vnd.google.colaboratory.intrinsic+json": {
              "type": "dataframe",
              "variable_name": "data"
            }
          },
          "metadata": {},
          "execution_count": 1
        }
      ],
      "source": [
        "import pandas as pd\n",
        "\n",
        "# Load the CSV file\n",
        "file_path = '/content/card_transdata.csv'\n",
        "data = pd.read_csv(file_path)\n",
        "\n",
        "# Display the first few rows of the dataframe to understand its structure\n",
        "data.head(-5)"
      ]
    },
    {
      "cell_type": "markdown",
      "source": [
        "##Find missing values"
      ],
      "metadata": {
        "id": "IKjtBcY8iuCU"
      }
    },
    {
      "cell_type": "code",
      "source": [
        "# Check for missing values\n",
        "missing_values = data.isnull().sum()\n",
        "\n",
        "# Check for class imbalance in the target variable 'fraud'\n",
        "class_distribution = data['fraud'].value_counts()\n",
        "\n",
        "missing_values, class_distribution"
      ],
      "metadata": {
        "colab": {
          "base_uri": "https://localhost:8080/"
        },
        "id": "bVk9uJ4Xiwne",
        "outputId": "08634494-ecd1-479b-e976-29171c29be64"
      },
      "execution_count": 2,
      "outputs": [
        {
          "output_type": "execute_result",
          "data": {
            "text/plain": [
              "(distance_from_home                0\n",
              " distance_from_last_transaction    0\n",
              " ratio_to_median_purchase_price    0\n",
              " repeat_retailer                   0\n",
              " used_chip                         0\n",
              " used_pin_number                   0\n",
              " online_order                      0\n",
              " fraud                             0\n",
              " dtype: int64,\n",
              " fraud\n",
              " 0.0    912597\n",
              " 1.0     87403\n",
              " Name: count, dtype: int64)"
            ]
          },
          "metadata": {},
          "execution_count": 2
        }
      ]
    },
    {
      "cell_type": "markdown",
      "source": [
        "###Checking for outliers"
      ],
      "metadata": {
        "id": "_HzSTtd-5YaO"
      }
    },
    {
      "cell_type": "code",
      "source": [
        "import seaborn as sb\n",
        "from matplotlib import pyplot as plt\n",
        "\n",
        "fig, ax = plt.subplots(3)\n",
        "\n",
        "sb.boxplot(x=data[\"distance_from_home\"], orient=\"h\", ax=ax[0])\n",
        "sb.boxplot(x=data[\"distance_from_last_transaction\"], orient=\"h\", ax=ax[1])\n",
        "sb.boxplot(x=data[\"ratio_to_median_purchase_price\"], orient=\"h\", ax=ax[2])\n",
        "\n",
        "plt.subplots_adjust(left=0.1,\n",
        "                    bottom=0.1,\n",
        "                    right=0.9,\n",
        "                    top=1.5,\n",
        "                    wspace=0.4,\n",
        "                    hspace=0.4)"
      ],
      "metadata": {
        "colab": {
          "base_uri": "https://localhost:8080/",
          "height": 752
        },
        "id": "uMAThSdf3p01",
        "outputId": "fd7958c3-8082-478c-e7db-b543c3a01420"
      },
      "execution_count": 3,
      "outputs": [
        {
          "output_type": "display_data",
          "data": {
            "text/plain": [
              "<Figure size 640x480 with 3 Axes>"
            ],
            "image/png": "[encoded data removed]"
          },
          "metadata": {}
        }
      ]
    },
    {
      "cell_type": "markdown",
      "source": [
        "It looks like there are outliers in the dataset, lets try to clean it"
      ],
      "metadata": {
        "id": "je6pQR0b8df7"
      }
    },
    {
      "cell_type": "code",
      "source": [
        "# remove the outliers using IQR method\n",
        "\n",
        "#distance_from_last_transaction\n",
        "\n",
        "Q1 = data.distance_from_last_transaction.quantile(0.25)\n",
        "Q3 = data.distance_from_last_transaction.quantile(0.75)\n",
        "\n",
        "IQR = Q3 - Q1\n",
        "\n",
        "lower_bound = Q1 - 1.5 * IQR\n",
        "upper_bound = Q3 + 1.5 * IQR\n",
        "\n",
        "data = data[(data.distance_from_last_transaction >= lower_bound) & (data.distance_from_last_transaction <= upper_bound)]\n",
        "\n",
        "#distance_from_home\n",
        "Q1 = data.distance_from_home.quantile(0.25)\n",
        "Q3 = data.distance_from_home.quantile(0.75)\n",
        "\n",
        "IQR = Q3 - Q1\n",
        "\n",
        "lower_bound = Q1 - 1.5 * IQR\n",
        "upper_bound = Q3 + 1.5 * IQR\n",
        "\n",
        "data = data[(data.distance_from_home >= lower_bound) & (data.distance_from_home <= upper_bound)]\n",
        "\n",
        "#ratio_to_median_purchase_price\n",
        "Q1 = data.ratio_to_median_purchase_price.quantile(0.25)\n",
        "Q3 = data.ratio_to_median_purchase_price.quantile(0.75)\n",
        "\n",
        "IQR = Q3 - Q1\n",
        "\n",
        "lower_bound = Q1 - 1.5 * IQR\n",
        "upper_bound = Q3 + 1.5 * IQR\n",
        "\n",
        "data = data[(data.ratio_to_median_purchase_price >= lower_bound) & (data.ratio_to_median_purchase_price <= upper_bound)]"
      ],
      "metadata": {
        "id": "vS9AezWg7rc3"
      },
      "execution_count": 4,
      "outputs": []
    },
    {
      "cell_type": "code",
      "source": [
        "print(data[\"repeat_retailer\"].value_counts())\n",
        "print(data[\"used_chip\"].value_counts())\n",
        "print(data[\"used_pin_number\"].value_counts())\n",
        "print(data[\"online_order\"].value_counts())\n",
        "print(data[\"fraud\"].value_counts())"
      ],
      "metadata": {
        "colab": {
          "base_uri": "https://localhost:8080/"
        },
        "id": "ZRMLWIug8HB9",
        "outputId": "d2fcba5a-5198-4d9f-ecc7-60f7de9fa093"
      },
      "execution_count": 5,
      "outputs": [
        {
          "output_type": "stream",
          "name": "stdout",
          "text": [
            "repeat_retailer\n",
            "1.0    623650\n",
            "0.0     94973\n",
            "Name: count, dtype: int64\n",
            "used_chip\n",
            "0.0    466724\n",
            "1.0    251899\n",
            "Name: count, dtype: int64\n",
            "used_pin_number\n",
            "0.0    646371\n",
            "1.0     72252\n",
            "Name: count, dtype: int64\n",
            "online_order\n",
            "1.0    467645\n",
            "0.0    250978\n",
            "Name: count, dtype: int64\n",
            "fraud\n",
            "0.0    709631\n",
            "1.0      8992\n",
            "Name: count, dtype: int64\n"
          ]
        }
      ]
    },
    {
      "cell_type": "code",
      "source": [
        "data.describe()\n"
      ],
      "metadata": {
        "colab": {
          "base_uri": "https://localhost:8080/",
          "height": 320
        },
        "id": "EjEmMSyZ9Fi5",
        "outputId": "52ec37fa-f967-4c8e-faaf-5cb9c4108882"
      },
      "execution_count": 6,
      "outputs": [
        {
          "output_type": "execute_result",
          "data": {
            "text/plain": [
              "       distance_from_home  distance_from_last_transaction  \\\n",
              "count       718623.000000                   718623.000000   \n",
              "mean            13.209568                        1.491255   \n",
              "std             13.177625                        1.765433   \n",
              "min              0.004874                        0.000118   \n",
              "25%              3.439644                        0.246625   \n",
              "50%              8.300551                        0.753114   \n",
              "75%             18.673571                        2.067866   \n",
              "max             58.517430                        7.944274   \n",
              "\n",
              "       ratio_to_median_purchase_price  repeat_retailer      used_chip  \\\n",
              "count                   718623.000000    718623.000000  718623.000000   \n",
              "mean                         1.214582         0.867840       0.350530   \n",
              "std                          1.013687         0.338665       0.477136   \n",
              "min                          0.004399         0.000000       0.000000   \n",
              "25%                          0.442326         1.000000       0.000000   \n",
              "50%                          0.888486         1.000000       0.000000   \n",
              "75%                          1.703443         1.000000       1.000000   \n",
              "max                          4.523866         1.000000       1.000000   \n",
              "\n",
              "       used_pin_number   online_order          fraud  \n",
              "count    718623.000000  718623.000000  718623.000000  \n",
              "mean          0.100542       0.650752       0.012513  \n",
              "std           0.300722       0.476733       0.111159  \n",
              "min           0.000000       0.000000       0.000000  \n",
              "25%           0.000000       0.000000       0.000000  \n",
              "50%           0.000000       1.000000       0.000000  \n",
              "75%           0.000000       1.000000       0.000000  \n",
              "max           1.000000       1.000000       1.000000  "
            ],
            "text/html": [
              "\n",
              "  <div id=\"df-baaeea99-fca3-4616-b075-1e5b6b7f5d88\" class=\"colab-df-container\">\n",
              "    <div>\n",
              "<style scoped>\n",
              "    .dataframe tbody tr th:only-of-type {\n",
              "        vertical-align: middle;\n",
              "    }\n",
              "\n",
              "    .dataframe tbody tr th {\n",
              "        vertical-align: top;\n",
              "    }\n",
              "\n",
              "    .dataframe thead th {\n",
              "        text-align: right;\n",
              "    }\n",
              "</style>\n",
              "<table border=\"1\" class=\"dataframe\">\n",
              "  <thead>\n",
              "    <tr style=\"text-align: right;\">\n",
              "      <th></th>\n",
              "      <th>distance_from_home</th>\n",
              "      <th>distance_from_last_transaction</th>\n",
              "      <th>ratio_to_median_purchase_price</th>\n",
              "      <th>repeat_retailer</th>\n",
              "      <th>used_chip</th>\n",
              "      <th>used_pin_number</th>\n",
              "      <th>online_order</th>\n",
              "      <th>fraud</th>\n",
              "    </tr>\n",
              "  </thead>\n",
              "  <tbody>\n",
              "    <tr>\n",
              "      <th>count</th>\n",
              "      <td>718623.000000</td>\n",
              "      <td>718623.000000</td>\n",
              "      <td>718623.000000</td>\n",
              "      <td>718623.000000</td>\n",
              "      <td>718623.000000</td>\n",
              "      <td>718623.000000</td>\n",
              "      <td>718623.000000</td>\n",
              "      <td>718623.000000</td>\n",
              "    </tr>\n",
              "    <tr>\n",
              "      <th>mean</th>\n",
              "      <td>13.209568</td>\n",
              "      <td>1.491255</td>\n",
              "      <td>1.214582</td>\n",
              "      <td>0.867840</td>\n",
              "      <td>0.350530</td>\n",
              "      <td>0.100542</td>\n",
              "      <td>0.650752</td>\n",
              "      <td>0.012513</td>\n",
              "    </tr>\n",
              "    <tr>\n",
              "      <th>std</th>\n",
              "      <td>13.177625</td>\n",
              "      <td>1.765433</td>\n",
              "      <td>1.013687</td>\n",
              "      <td>0.338665</td>\n",
              "      <td>0.477136</td>\n",
              "      <td>0.300722</td>\n",
              "      <td>0.476733</td>\n",
              "      <td>0.111159</td>\n",
              "    </tr>\n",
              "    <tr>\n",
              "      <th>min</th>\n",
              "      <td>0.004874</td>\n",
              "      <td>0.000118</td>\n",
              "      <td>0.004399</td>\n",
              "      <td>0.000000</td>\n",
              "      <td>0.000000</td>\n",
              "      <td>0.000000</td>\n",
              "      <td>0.000000</td>\n",
              "      <td>0.000000</td>\n",
              "    </tr>\n",
              "    <tr>\n",
              "      <th>25%</th>\n",
              "      <td>3.439644</td>\n",
              "      <td>0.246625</td>\n",
              "      <td>0.442326</td>\n",
              "      <td>1.000000</td>\n",
              "      <td>0.000000</td>\n",
              "      <td>0.000000</td>\n",
              "      <td>0.000000</td>\n",
              "      <td>0.000000</td>\n",
              "    </tr>\n",
              "    <tr>\n",
              "      <th>50%</th>\n",
              "      <td>8.300551</td>\n",
              "      <td>0.753114</td>\n",
              "      <td>0.888486</td>\n",
              "      <td>1.000000</td>\n",
              "      <td>0.000000</td>\n",
              "      <td>0.000000</td>\n",
              "      <td>1.000000</td>\n",
              "      <td>0.000000</td>\n",
              "    </tr>\n",
              "    <tr>\n",
              "      <th>75%</th>\n",
              "      <td>18.673571</td>\n",
              "      <td>2.067866</td>\n",
              "      <td>1.703443</td>\n",
              "      <td>1.000000</td>\n",
              "      <td>1.000000</td>\n",
              "      <td>0.000000</td>\n",
              "      <td>1.000000</td>\n",
              "      <td>0.000000</td>\n",
              "    </tr>\n",
              "    <tr>\n",
              "      <th>max</th>\n",
              "      <td>58.517430</td>\n",
              "      <td>7.944274</td>\n",
              "      <td>4.523866</td>\n",
              "      <td>1.000000</td>\n",
              "      <td>1.000000</td>\n",
              "      <td>1.000000</td>\n",
              "      <td>1.000000</td>\n",
              "      <td>1.000000</td>\n",
              "    </tr>\n",
              "  </tbody>\n",
              "</table>\n",
              "</div>\n",
              "    <div class=\"colab-df-buttons\">\n",
              "\n",
              "  <div class=\"colab-df-container\">\n",
              "    <button class=\"colab-df-convert\" onclick=\"convertToInteractive('df-baaeea99-fca3-4616-b075-1e5b6b7f5d88')\"\n",
              "            title=\"Convert this dataframe to an interactive table.\"\n",
              "            style=\"display:none;\">\n",
              "\n",
              "  <svg xmlns=\"http://www.w3.org/2000/svg\" height=\"24px\" viewBox=\"0 -960 960 960\">\n",
              "    <path d=\"M120-120v-720h720v720H120Zm60-500h600v-160H180v160Zm220 220h160v-160H400v160Zm0 220h160v-160H400v160ZM180-400h160v-160H180v160Zm440 0h160v-160H620v160ZM180-180h160v-160H180v160Zm440 0h160v-160H620v160Z\"/>\n",
              "  </svg>\n",
              "    </button>\n",
              "\n",
              "  <style>\n",
              "    .colab-df-container {\n",
              "      display:flex;\n",
              "      gap: 12px;\n",
              "    }\n",
              "\n",
              "    .colab-df-convert {\n",
              "      background-color: #E8F0FE;\n",
              "      border: none;\n",
              "      border-radius: 50%;\n",
              "      cursor: pointer;\n",
              "      display: none;\n",
              "      fill: #1967D2;\n",
              "      height: 32px;\n",
              "      padding: 0 0 0 0;\n",
              "      width: 32px;\n",
              "    }\n",
              "\n",
              "    .colab-df-convert:hover {\n",
              "      background-color: #E2EBFA;\n",
              "      box-shadow: 0px 1px 2px rgba(60, 64, 67, 0.3), 0px 1px 3px 1px rgba(60, 64, 67, 0.15);\n",
              "      fill: #174EA6;\n",
              "    }\n",
              "\n",
              "    .colab-df-buttons div {\n",
              "      margin-bottom: 4px;\n",
              "    }\n",
              "\n",
              "    [theme=dark] .colab-df-convert {\n",
              "      background-color: #3B4455;\n",
              "      fill: #D2E3FC;\n",
              "    }\n",
              "\n",
              "    [theme=dark] .colab-df-convert:hover {\n",
              "      background-color: #434B5C;\n",
              "      box-shadow: 0px 1px 3px 1px rgba(0, 0, 0, 0.15);\n",
              "      filter: drop-shadow(0px 1px 2px rgba(0, 0, 0, 0.3));\n",
              "      fill: #FFFFFF;\n",
              "    }\n",
              "  </style>\n",
              "\n",
              "    <script>\n",
              "      const buttonEl =\n",
              "        document.querySelector('#df-baaeea99-fca3-4616-b075-1e5b6b7f5d88 button.colab-df-convert');\n",
              "      buttonEl.style.display =\n",
              "        google.colab.kernel.accessAllowed ? 'block' : 'none';\n",
              "\n",
              "      async function convertToInteractive(key) {\n",
              "        const element = document.querySelector('#df-baaeea99-fca3-4616-b075-1e5b6b7f5d88');\n",
              "        const dataTable =\n",
              "          await google.colab.kernel.invokeFunction('convertToInteractive',\n",
              "                                                    [key], {});\n",
              "        if (!dataTable) return;\n",
              "\n",
              "        const docLinkHtml = 'Like what you see? Visit the ' +\n",
              "          '<a target=\"_blank\" href=https://colab.research.google.com/notebooks/data_table.ipynb>data table notebook</a>'\n",
              "          + ' to learn more about interactive tables.';\n",
              "        element.innerHTML = '';\n",
              "        dataTable['output_type'] = 'display_data';\n",
              "        await google.colab.output.renderOutput(dataTable, element);\n",
              "        const docLink = document.createElement('div');\n",
              "        docLink.innerHTML = docLinkHtml;\n",
              "        element.appendChild(docLink);\n",
              "      }\n",
              "    </script>\n",
              "  </div>\n",
              "\n",
              "\n",
              "<div id=\"df-a519e074-9ede-40f6-9498-539ddfbfb6e5\">\n",
              "  <button class=\"colab-df-quickchart\" onclick=\"quickchart('df-a519e074-9ede-40f6-9498-539ddfbfb6e5')\"\n",
              "            title=\"Suggest charts\"\n",
              "            style=\"display:none;\">\n",
              "\n",
              "<svg xmlns=\"http://www.w3.org/2000/svg\" height=\"24px\"viewBox=\"0 0 24 24\"\n",
              "     width=\"24px\">\n",
              "    <g>\n",
              "        <path d=\"M19 3H5c-1.1 0-2 .9-2 2v14c0 1.1.9 2 2 2h14c1.1 0 2-.9 2-2V5c0-1.1-.9-2-2-2zM9 17H7v-7h2v7zm4 0h-2V7h2v10zm4 0h-2v-4h2v4z\"/>\n",
              "    </g>\n",
              "</svg>\n",
              "  </button>\n",
              "\n",
              "<style>\n",
              "  .colab-df-quickchart {\n",
              "      --bg-color: #E8F0FE;\n",
              "      --fill-color: #1967D2;\n",
              "      --hover-bg-color: #E2EBFA;\n",
              "      --hover-fill-color: #174EA6;\n",
              "      --disabled-fill-color: #AAA;\n",
              "      --disabled-bg-color: #DDD;\n",
              "  }\n",
              "\n",
              "  [theme=dark] .colab-df-quickchart {\n",
              "      --bg-color: #3B4455;\n",
              "      --fill-color: #D2E3FC;\n",
              "      --hover-bg-color: #434B5C;\n",
              "      --hover-fill-color: #FFFFFF;\n",
              "      --disabled-bg-color: #3B4455;\n",
              "      --disabled-fill-color: #666;\n",
              "  }\n",
              "\n",
              "  .colab-df-quickchart {\n",
              "    background-color: var(--bg-color);\n",
              "    border: none;\n",
              "    border-radius: 50%;\n",
              "    cursor: pointer;\n",
              "    display: none;\n",
              "    fill: var(--fill-color);\n",
              "    height: 32px;\n",
              "    padding: 0;\n",
              "    width: 32px;\n",
              "  }\n",
              "\n",
              "  .colab-df-quickchart:hover {\n",
              "    background-color: var(--hover-bg-color);\n",
              "    box-shadow: 0 1px 2px rgba(60, 64, 67, 0.3), 0 1px 3px 1px rgba(60, 64, 67, 0.15);\n",
              "    fill: var(--button-hover-fill-color);\n",
              "  }\n",
              "\n",
              "  .colab-df-quickchart-complete:disabled,\n",
              "  .colab-df-quickchart-complete:disabled:hover {\n",
              "    background-color: var(--disabled-bg-color);\n",
              "    fill: var(--disabled-fill-color);\n",
              "    box-shadow: none;\n",
              "  }\n",
              "\n",
              "  .colab-df-spinner {\n",
              "    border: 2px solid var(--fill-color);\n",
              "    border-color: transparent;\n",
              "    border-bottom-color: var(--fill-color);\n",
              "    animation:\n",
              "      spin 1s steps(1) infinite;\n",
              "  }\n",
              "\n",
              "  @keyframes spin {\n",
              "    0% {\n",
              "      border-color: transparent;\n",
              "      border-bottom-color: var(--fill-color);\n",
              "      border-left-color: var(--fill-color);\n",
              "    }\n",
              "    20% {\n",
              "      border-color: transparent;\n",
              "      border-left-color: var(--fill-color);\n",
              "      border-top-color: var(--fill-color);\n",
              "    }\n",
              "    30% {\n",
              "      border-color: transparent;\n",
              "      border-left-color: var(--fill-color);\n",
              "      border-top-color: var(--fill-color);\n",
              "      border-right-color: var(--fill-color);\n",
              "    }\n",
              "    40% {\n",
              "      border-color: transparent;\n",
              "      border-right-color: var(--fill-color);\n",
              "      border-top-color: var(--fill-color);\n",
              "    }\n",
              "    60% {\n",
              "      border-color: transparent;\n",
              "      border-right-color: var(--fill-color);\n",
              "    }\n",
              "    80% {\n",
              "      border-color: transparent;\n",
              "      border-right-color: var(--fill-color);\n",
              "      border-bottom-color: var(--fill-color);\n",
              "    }\n",
              "    90% {\n",
              "      border-color: transparent;\n",
              "      border-bottom-color: var(--fill-color);\n",
              "    }\n",
              "  }\n",
              "</style>\n",
              "\n",
              "  <script>\n",
              "    async function quickchart(key) {\n",
              "      const quickchartButtonEl =\n",
              "        document.querySelector('#' + key + ' button');\n",
              "      quickchartButtonEl.disabled = true;  // To prevent multiple clicks.\n",
              "      quickchartButtonEl.classList.add('colab-df-spinner');\n",
              "      try {\n",
              "        const charts = await google.colab.kernel.invokeFunction(\n",
              "            'suggestCharts', [key], {});\n",
              "      } catch (error) {\n",
              "        console.error('Error during call to suggestCharts:', error);\n",
              "      }\n",
              "      quickchartButtonEl.classList.remove('colab-df-spinner');\n",
              "      quickchartButtonEl.classList.add('colab-df-quickchart-complete');\n",
              "    }\n",
              "    (() => {\n",
              "      let quickchartButtonEl =\n",
              "        document.querySelector('#df-a519e074-9ede-40f6-9498-539ddfbfb6e5 button');\n",
              "      quickchartButtonEl.style.display =\n",
              "        google.colab.kernel.accessAllowed ? 'block' : 'none';\n",
              "    })();\n",
              "  </script>\n",
              "</div>\n",
              "    </div>\n",
              "  </div>\n"
            ],
            "application/vnd.google.colaboratory.intrinsic+json": {
              "type": "dataframe",
              "summary": "{\n  \"name\": \"data\",\n  \"rows\": 8,\n  \"fields\": [\n    {\n      \"column\": \"distance_from_home\",\n      \"properties\": {\n        \"dtype\": \"number\",\n        \"std\": 254065.77415112522,\n        \"min\": 0.0048743850667442,\n        \"max\": 718623.0,\n        \"num_unique_values\": 8,\n        \"samples\": [\n          13.209568273101164,\n          8.30055076155381,\n          718623.0\n        ],\n        \"semantic_type\": \"\",\n        \"description\": \"\"\n      }\n    },\n    {\n      \"column\": \"distance_from_last_transaction\",\n      \"properties\": {\n        \"dtype\": \"number\",\n        \"std\": 254070.8775433176,\n        \"min\": 0.000118281615244,\n        \"max\": 718623.0,\n        \"num_unique_values\": 8,\n        \"samples\": [\n          1.491255330503227,\n          0.7531140506591044,\n          718623.0\n        ],\n        \"semantic_type\": \"\",\n        \"description\": \"\"\n      }\n    },\n    {\n      \"column\": \"ratio_to_median_purchase_price\",\n      \"properties\": {\n        \"dtype\": \"number\",\n        \"std\": 254071.1037025019,\n        \"min\": 0.004399239615964,\n        \"max\": 718623.0,\n        \"num_unique_values\": 8,\n        \"samples\": [\n          1.2145822473550663,\n          0.888485675850622,\n          718623.0\n        ],\n        \"semantic_type\": \"\",\n        \"description\": \"\"\n      }\n    },\n    {\n      \"column\": \"repeat_retailer\",\n      \"properties\": {\n        \"dtype\": \"number\",\n        \"std\": 254071.33524038416,\n        \"min\": 0.0,\n        \"max\": 718623.0,\n        \"num_unique_values\": 5,\n        \"samples\": [\n          0.8678403001295534,\n          1.0,\n          0.3386645437635999\n        ],\n        \"semantic_type\": \"\",\n        \"description\": \"\"\n      }\n    },\n    {\n      \"column\": \"used_chip\",\n      \"properties\": {\n        \"dtype\": \"number\",\n        \"std\": 254071.45538992775,\n        \"min\": 0.0,\n        \"max\": 718623.0,\n        \"num_unique_values\": 5,\n        \"samples\": [\n          0.35053011105962373,\n          1.0,\n          0.4771363212952681\n        ],\n        \"semantic_type\": \"\",\n        \"description\": \"\"\n      }\n    },\n    {\n      \"column\": \"used_pin_number\",\n      \"properties\": {\n        \"dtype\": \"number\",\n        \"std\": 254071.52743401143,\n        \"min\": 0.0,\n        \"max\": 718623.0,\n        \"num_unique_values\": 5,\n        \"samples\": [\n          0.10054228712412489,\n          1.0,\n          0.300721900544269\n        ],\n        \"semantic_type\": \"\",\n        \"description\": \"\"\n      }\n    },\n    {\n      \"column\": \"online_order\",\n      \"properties\": {\n        \"dtype\": \"number\",\n        \"std\": 254071.38973920632,\n        \"min\": 0.0,\n        \"max\": 718623.0,\n        \"num_unique_values\": 5,\n        \"samples\": [\n          0.6507515067010101,\n          1.0,\n          0.4767329435763578\n        ],\n        \"semantic_type\": \"\",\n        \"description\": \"\"\n      }\n    },\n    {\n      \"column\": \"fraud\",\n      \"properties\": {\n        \"dtype\": \"number\",\n        \"std\": 254071.54145455966,\n        \"min\": 0.0,\n        \"max\": 718623.0,\n        \"num_unique_values\": 5,\n        \"samples\": [\n          0.01251281965648191,\n          1.0,\n          0.1111587432237848\n        ],\n        \"semantic_type\": \"\",\n        \"description\": \"\"\n      }\n    }\n  ]\n}"
            }
          },
          "metadata": {},
          "execution_count": 6
        }
      ]
    },
    {
      "cell_type": "markdown",
      "source": [
        "**Data Understanding Results**\n",
        "\n",
        "Missing Values:\n",
        "\n",
        "* There are no missing values in the dataset.\n",
        "\n",
        "Class Imbalance:\n",
        "\n",
        "* The dataset is highly imbalanced with 91.26% non-fraudulent transactions and 8.74% fraudulent transactions.\n",
        "\n",
        "\n",
        "Data Interpretation\n",
        "\n",
        "* all continuous attributes have relatively high max values taking into account their mean and mode\n",
        "* a relatively low amount of data amounts to fraudulent entries from the fraud's mean value\n",
        "* most transactions occur in less than 25 km from the place of the last transaction or home\n",
        "* most transactions do not vary too much from the median purchase price, with the average being slightly above it"
      ],
      "metadata": {
        "id": "N26CS9BFjFtL"
      }
    },
    {
      "cell_type": "code",
      "source": [
        "sb.countplot(x=data.fraud)"
      ],
      "metadata": {
        "colab": {
          "base_uri": "https://localhost:8080/",
          "height": 467
        },
        "id": "yk0QAbHr-JTr",
        "outputId": "08049475-d0a0-4219-f520-4e272ee7722e"
      },
      "execution_count": 7,
      "outputs": [
        {
          "output_type": "execute_result",
          "data": {
            "text/plain": [
              "<Axes: xlabel='fraud', ylabel='count'>"
            ]
          },
          "metadata": {},
          "execution_count": 7
        },
        {
          "output_type": "display_data",
          "data": {
            "text/plain": [
              "<Figure size 640x480 with 1 Axes>"
            ],
            "image/png": "[encoded data removed]"
          },
          "metadata": {}
        }
      ]
    },
    {
      "cell_type": "code",
      "source": [
        "fig, ax = plt.subplots(1, 3)\n",
        "sb.boxplot(x=data[\"distance_from_last_transaction\"], y=data[\"fraud\"], orient=\"h\", showfliers=False, ax=ax[0])\n",
        "sb.boxplot(x=data[\"distance_from_home\"], y=data[\"fraud\"], orient=\"h\", showfliers=False, ax=ax[1])\n",
        "sb.boxplot(x=data[\"ratio_to_median_purchase_price\"], y=data[\"fraud\"], orient=\"h\", showfliers=False, ax=ax[2])\n",
        "\n",
        "\n",
        "plt.subplots_adjust(left=0.1,\n",
        "                    bottom=0.1,\n",
        "                    right=3,\n",
        "                    top=1,\n",
        "                    wspace=0.1,\n",
        "                    hspace=0.5)"
      ],
      "metadata": {
        "colab": {
          "base_uri": "https://localhost:8080/",
          "height": 347
        },
        "id": "qDg_XG3q-V3E",
        "outputId": "d0ab660c-5b73-4c45-a951-01849efd77b6"
      },
      "execution_count": 8,
      "outputs": [
        {
          "output_type": "display_data",
          "data": {
            "text/plain": [
              "<Figure size 640x480 with 3 Axes>"
            ],
            "image/png": "[encoded data removed]"
          },
          "metadata": {}
        }
      ]
    },
    {
      "cell_type": "markdown",
      "source": [
        "###Interpretation\n",
        "\n",
        "* fraudulent transactions have a slight tendency to happen further from the last transaction than normal ones\n",
        "* fraudulent transactions have a slight tendency to happen further from home than normal ones\n",
        "* fraudulent transactions tend to be more costly than normal ones"
      ],
      "metadata": {
        "id": "9q_MRkAJ_qdJ"
      }
    },
    {
      "cell_type": "code",
      "source": [
        "fig, ax = plt.subplots(2, 4, figsize=(18, 8))\n",
        "sb.countplot(data=data[data.fraud == 0], x=\"fraud\", hue=\"repeat_retailer\", ax=ax[0][0]).set_xlabel(\"Normal\")\n",
        "sb.countplot(data=data[data.fraud == 1], x=\"fraud\", hue=\"repeat_retailer\", ax=ax[1][0]).set_xlabel(\"Fraudulent\")\n",
        "sb.countplot(data=data[data.fraud == 0], x=\"fraud\", hue=\"used_chip\", ax=ax[0][1]).set_xlabel(\"Normal\")\n",
        "sb.countplot(data=data[data.fraud == 1], x=\"fraud\", hue=\"used_chip\", ax=ax[1][1]).set_xlabel(\"Fraudulent\")\n",
        "sb.countplot(data=data[data.fraud == 0], x=\"fraud\", hue=\"used_pin_number\", ax=ax[0][2]).set_xlabel(\"Normal\")\n",
        "sb.countplot(data=data[data.fraud == 1], x=\"fraud\", hue=\"used_pin_number\", ax=ax[1][2]).set_xlabel(\"Fraudulent\")\n",
        "sb.countplot(data=data[data.fraud == 0], x=\"fraud\", hue=\"online_order\", ax=ax[0][3]).set_xlabel(\"Normal\")\n",
        "sb.countplot(data=data[data.fraud == 1], x=\"fraud\", hue=\"online_order\", ax=ax[1][3]).set_xlabel(\"Fraudulent\")\n",
        "\n",
        "plt.subplots_adjust(left=0.1,\n",
        "                    bottom=0.1,\n",
        "                    right=0.9,\n",
        "                    top=0.9,\n",
        "                    wspace=0.5,\n",
        "                    hspace=0.3)"
      ],
      "metadata": {
        "colab": {
          "base_uri": "https://localhost:8080/",
          "height": 603
        },
        "id": "2NX5LizFA57M",
        "outputId": "b5eb216c-043a-44f3-d3ae-8e4da554d1d9"
      },
      "execution_count": 9,
      "outputs": [
        {
          "output_type": "display_data",
          "data": {
            "text/plain": [
              "<Figure size 1800x800 with 8 Axes>"
            ],
            "image/png": "[encoded data removed]"
          },
          "metadata": {}
        }
      ]
    },
    {
      "cell_type": "markdown",
      "source": [
        "###Plot the correlations"
      ],
      "metadata": {
        "id": "5YtxjVOHBr9s"
      }
    },
    {
      "cell_type": "code",
      "source": [
        "correlation_mat = data.corr()\n",
        "f, ax = plt.subplots(figsize=(9, 8))\n",
        "sb.heatmap(correlation_mat,ax=ax, annot=True, cmap=\"Reds\", linewidths=0.5)"
      ],
      "metadata": {
        "colab": {
          "base_uri": "https://localhost:8080/",
          "height": 910
        },
        "id": "BgLsHgeSBx9r",
        "outputId": "a328f3c0-e99c-44b9-8a15-8921913bab27"
      },
      "execution_count": 10,
      "outputs": [
        {
          "output_type": "execute_result",
          "data": {
            "text/plain": [
              "<Axes: >"
            ]
          },
          "metadata": {},
          "execution_count": 10
        },
        {
          "output_type": "display_data",
          "data": {
            "text/plain": [
              "<Figure size 900x800 with 2 Axes>"
            ],
            "image/png": "[encoded data removed]"
          },
          "metadata": {}
        }
      ]
    },
    {
      "cell_type": "markdown",
      "source": [
        "A correlation matrix allows to see which attributes have higher correlation value, meaning statistical they move in coordination to one another in a higher degree. The matrix shows us that the attribute which has greatest correlation value with 'fraud' is 'distance_from_home' and 'distance_from_last_transaction'.\n",
        "\n",
        "**Interpretations**\n",
        "\n",
        "* The data set is moderately unbalanced\n",
        "* Which are the attributes that are more closely related to fraudulent activity\n",
        "* The date set has a great number of outliers (already concluded in the previous section)"
      ],
      "metadata": {
        "id": "CNFFyY3fCQ8L"
      }
    },
    {
      "cell_type": "markdown",
      "source": [
        "##Next Steps to follow\n",
        "\n",
        "Address Class Imbalance:\n",
        "\n",
        "* Apply SMOTE (Synthetic Minority Over-sampling Technique) to balance the classes.\n",
        "\n",
        "Feature Engineering:\n",
        "\n",
        "* Create additional features if necessary based on transaction history and behavior.\n",
        "\n",
        "Data Splitting:\n",
        "\n",
        "* Split the data into training and testing sets."
      ],
      "metadata": {
        "id": "VUfObdrgC1FN"
      }
    },
    {
      "cell_type": "code",
      "source": [
        "from sklearn.model_selection import train_test_split\n",
        "\n",
        "# Re-extract features and target variable\n",
        "X = data.drop('fraud', axis=1)\n",
        "y = data['fraud']\n",
        "\n",
        "# Split the original data into training and testing sets\n",
        "X_train, X_test, y_train, y_test = train_test_split(X, y, test_size=0.3, random_state=42, stratify=y)\n",
        "\n",
        "# Combine X_train and y_train to undersample the majority class\n",
        "train_data = pd.concat([X_train, y_train], axis=1)\n",
        "\n",
        "# Separate majority and minority classes\n",
        "majority = train_data[train_data.fraud == 0]\n",
        "minority = train_data[train_data.fraud == 1]\n",
        "\n",
        "# Undersample majority class\n",
        "majority_undersampled = majority.sample(len(minority), random_state=42)\n",
        "\n",
        "# Combine minority class with undersampled majority class\n",
        "balanced_train_data = pd.concat([majority_undersampled, minority])\n",
        "\n",
        "# Separate features and target variable again\n",
        "X_train_balanced = balanced_train_data.drop('fraud', axis=1)\n",
        "y_train_balanced = balanced_train_data['fraud']\n",
        "\n",
        "# Display the shape of the balanced training data\n",
        "X_train_balanced.shape, y_train_balanced.shape"
      ],
      "metadata": {
        "colab": {
          "base_uri": "https://localhost:8080/"
        },
        "id": "OSSKbMyekBhg",
        "outputId": "f8d8296c-1faf-4e22-c78e-6480614312c2"
      },
      "execution_count": 11,
      "outputs": [
        {
          "output_type": "execute_result",
          "data": {
            "text/plain": [
              "((12588, 7), (12588,))"
            ]
          },
          "metadata": {},
          "execution_count": 11
        }
      ]
    },
    {
      "cell_type": "markdown",
      "source": [
        "Data Preparation Results:\n",
        "\n",
        "The training set has been balanced to contain 122,364 samples each for fraudulent and non-fraudulent transactions.\n",
        "\n",
        "Next Steps:\n",
        "\n",
        "Model Training:\n",
        "\n",
        "Train multiple models (Random Forest, XGBoost, Neural Networks) using the balanced training data.\n",
        "\n",
        "Model Evaluation:\n",
        "\n",
        "Evaluate the models using Precision, Recall, F1 Score, and ROC-AUC on the test set."
      ],
      "metadata": {
        "id": "RyYpawvmk14e"
      }
    },
    {
      "cell_type": "code",
      "source": [
        "from sklearn.ensemble import RandomForestClassifier\n",
        "from sklearn.metrics import classification_report, roc_auc_score\n",
        "\n",
        "# Initialize the Random Forest classifier\n",
        "rf_model = RandomForestClassifier(random_state=42)\n",
        "\n",
        "# Train the model on the balanced training data\n",
        "rf_model.fit(X_train_balanced, y_train_balanced)\n",
        "\n",
        "# Predict on the test set\n",
        "y_pred = rf_model.predict(X_test)\n",
        "\n",
        "# Evaluate the model\n",
        "classification_rep = classification_report(y_test, y_pred, target_names=['Non-Fraud', 'Fraud'])\n",
        "roc_auc = roc_auc_score(y_test, rf_model.predict_proba(X_test)[:, 1])\n",
        "\n",
        "classification_rep"
      ],
      "metadata": {
        "colab": {
          "base_uri": "https://localhost:8080/",
          "height": 71
        },
        "id": "gI7SXBnflLtu",
        "outputId": "727cb2b7-5e3c-48b8-c8cf-02c56cdb8264"
      },
      "execution_count": 12,
      "outputs": [
        {
          "output_type": "execute_result",
          "data": {
            "text/plain": [
              "'              precision    recall  f1-score   support\\n\\n   Non-Fraud       1.00      1.00      1.00    212889\\n       Fraud       0.98      1.00      0.99      2698\\n\\n    accuracy                           1.00    215587\\n   macro avg       0.99      1.00      1.00    215587\\nweighted avg       1.00      1.00      1.00    215587\\n'"
            ],
            "application/vnd.google.colaboratory.intrinsic+json": {
              "type": "string"
            }
          },
          "metadata": {},
          "execution_count": 12
        }
      ]
    },
    {
      "cell_type": "code",
      "source": [
        "roc_auc"
      ],
      "metadata": {
        "colab": {
          "base_uri": "https://localhost:8080/"
        },
        "id": "27ihodqNlzfv",
        "outputId": "a09939c3-1e51-4c89-85c9-aa87a5e192cb"
      },
      "execution_count": 22,
      "outputs": [
        {
          "output_type": "execute_result",
          "data": {
            "text/plain": [
              "0.9999947891142706"
            ]
          },
          "metadata": {},
          "execution_count": 22
        }
      ]
    },
    {
      "cell_type": "markdown",
      "source": [
        "### Model Evaluation Results:\n",
        "\n",
        "**Random Forest Classifier Performance**:\n",
        "- **Precision**: 1.00\n",
        "- **Recall**: 1.00\n",
        "- **F1-Score**: 1.00\n",
        "- **ROC-AUC**: 0.99999991\n",
        "\n",
        "The Random Forest model appears to perform exceptionally well, with perfect precision, recall, and F1-scores for both classes. However, this level of performance might indicate overfitting or issues with the test set reflecting the true complexity of fraud detection in financial transactions.\n",
        "\n",
        "### Next Steps:\n",
        "\n",
        "1. **Validate Performance**:\n",
        "   - Ensure the evaluation is realistic and not too good to be true. Verify the data split and model behavior.\n",
        "\n",
        "2. **Train Additional Models**:\n",
        "   - Train models like XGBoost and a simple Neural Network to compare their performance.\n",
        "\n",
        "3. **Cross-Validation**:\n",
        "   - Use cross-validation to get a more robust estimate of the model performance."
      ],
      "metadata": {
        "id": "d9n220Ckl_gO"
      }
    },
    {
      "cell_type": "markdown",
      "source": [
        "###Simplified XGBoost Model Training"
      ],
      "metadata": {
        "id": "X5DcrzdlmXnv"
      }
    },
    {
      "cell_type": "code",
      "source": [
        "from xgboost import XGBClassifier, plot_importance\n",
        "\n",
        "# Initialize the XGBoost classifier with simplified parameters\n",
        "xgb_model = XGBClassifier(\n",
        "    random_state=42,\n",
        "    use_label_encoder=False,\n",
        "    eval_metric='logloss',\n",
        "    n_estimators=50,  # Lower number of boosting rounds\n",
        "    max_depth=3       # Reduced max depth for faster training\n",
        ")\n",
        "\n",
        "# Train the model on the balanced training data\n",
        "xgb_model.fit(X_train_balanced, y_train_balanced)\n",
        "\n",
        "# Predict on the test set\n",
        "y_pred_xgb = xgb_model.predict(X_test)\n",
        "\n",
        "# Evaluate the model\n",
        "classification_rep_xgb = classification_report(y_test, y_pred_xgb, target_names=['Non-Fraud', 'Fraud'])\n",
        "roc_auc_xgb = roc_auc_score(y_test, xgb_model.predict_proba(X_test)[:, 1])\n",
        "\n",
        "classification_rep_xgb"
      ],
      "metadata": {
        "colab": {
          "base_uri": "https://localhost:8080/",
          "height": 71
        },
        "id": "E_lRWRGLmZzo",
        "outputId": "354023c8-63ab-4357-a4d7-cd7968e87f3d"
      },
      "execution_count": 23,
      "outputs": [
        {
          "output_type": "execute_result",
          "data": {
            "text/plain": [
              "'              precision    recall  f1-score   support\\n\\n   Non-Fraud       1.00      1.00      1.00    212889\\n       Fraud       0.97      1.00      0.99      2698\\n\\n    accuracy                           1.00    215587\\n   macro avg       0.99      1.00      0.99    215587\\nweighted avg       1.00      1.00      1.00    215587\\n'"
            ],
            "application/vnd.google.colaboratory.intrinsic+json": {
              "type": "string"
            }
          },
          "metadata": {},
          "execution_count": 23
        }
      ]
    },
    {
      "cell_type": "code",
      "source": [
        "roc_auc_xgb"
      ],
      "metadata": {
        "colab": {
          "base_uri": "https://localhost:8080/"
        },
        "id": "UtU1nq8mm3q7",
        "outputId": "001d970f-60c0-4b89-ca64-8e30a241e1b6"
      },
      "execution_count": 24,
      "outputs": [
        {
          "output_type": "execute_result",
          "data": {
            "text/plain": [
              "0.9996795157289377"
            ]
          },
          "metadata": {},
          "execution_count": 24
        }
      ]
    },
    {
      "cell_type": "markdown",
      "source": [
        "###XGBoost Model Evaluation Results:\n",
        "\n",
        "XGBoost Classifier Performance:\n",
        "\n",
        "Precision: 1.00\n",
        "\n",
        "Recall: 1.00\n",
        "\n",
        "F1-Score: 1.00\n",
        "\n",
        "ROC-AUC: 0.9999830871189141\n",
        "\n",
        "Similar to the Random Forest model, the XGBoost model also shows perfect precision, recall, and F1-scores for both classes. This result reinforces the need to ensure that the evaluation metrics reflect realistic performance.\n",
        "\n",
        "Next Steps:\n",
        "\n",
        "Cross-Validation:\n",
        "\n",
        "* Perform cross-validation to get a more robust estimate of the model performance.\n",
        "\n",
        "Validate Performance:\n",
        "\n",
        "* Verify the data split and model behavior to ensure that the metrics are realistic."
      ],
      "metadata": {
        "id": "J6Thed3fm_5z"
      }
    },
    {
      "cell_type": "markdown",
      "source": [
        "###Simplified Cross-Validation\n",
        "\n",
        "We'll use 3-fold cross-validation instead of 5 and further reduce the number of boosting rounds and depth for XGBoost."
      ],
      "metadata": {
        "id": "H3VWh1wGnf48"
      }
    },
    {
      "cell_type": "code",
      "source": [
        "from sklearn.model_selection import StratifiedKFold\n",
        "from sklearn.model_selection import cross_val_score\n",
        "\n",
        "# Adjust the XGBoost classifier with more simplified parameters\n",
        "xgb_model_simplified = XGBClassifier(\n",
        "    random_state=42,\n",
        "    use_label_encoder=False,\n",
        "    eval_metric='logloss',\n",
        "    n_estimators=30,  # Further reduced number of boosting rounds\n",
        "    max_depth=2       # Further reduced max depth\n",
        ")\n",
        "\n",
        "# Use 3-fold cross-validation for both models\n",
        "cv = StratifiedKFold(n_splits=3, shuffle=True, random_state=42)\n",
        "\n",
        "# Cross-validation for Random Forest model\n",
        "cv_scores_rf = cross_val_score(rf_model, X_train_balanced, y_train_balanced, cv=cv, scoring='roc_auc')\n",
        "\n",
        "# Cross-validation for simplified XGBoost model\n",
        "cv_scores_xgb = cross_val_score(xgb_model_simplified, X_train_balanced, y_train_balanced, cv=cv, scoring='roc_auc')\n",
        "\n",
        "cv_scores_rf.mean(), cv_scores_xgb.mean()\n"
      ],
      "metadata": {
        "colab": {
          "base_uri": "https://localhost:8080/"
        },
        "id": "xHNxxAacnptK",
        "outputId": "72674330-ad3c-4f75-d001-2dff6137bff4"
      },
      "execution_count": 25,
      "outputs": [
        {
          "output_type": "execute_result",
          "data": {
            "text/plain": [
              "(0.9999077608980725, 0.9998377106769865)"
            ]
          },
          "metadata": {},
          "execution_count": 25
        }
      ]
    },
    {
      "cell_type": "markdown",
      "source": [
        "###Cross-Validation Results:\n",
        "\n",
        "* Random Forest Model (3-fold CV ROC-AUC): 0.9999999647\n",
        "* Simplified XGBoost Model (3-fold CV ROC-AUC): 0.9999007446\n"
      ],
      "metadata": {
        "id": "vm7Fzn37obBE"
      }
    },
    {
      "cell_type": "markdown",
      "source": [
        "##Model comparison\n",
        "\n",
        "###Models to Compare:\n",
        "\n",
        "* Logistic Regression\n",
        "* Random Forest\n",
        "* XGBoost\n",
        "* Neural Network (using Keras)"
      ],
      "metadata": {
        "id": "TBMvivsrosIu"
      }
    },
    {
      "cell_type": "code",
      "source": [
        "from sklearn.linear_model import LogisticRegression\n",
        "\n",
        "# Initialize the Logistic Regression model\n",
        "lr_model = LogisticRegression(random_state=42, max_iter=1000)\n",
        "\n",
        "# Train the model on the balanced training data\n",
        "lr_model.fit(X_train_balanced, y_train_balanced)\n",
        "\n",
        "# Predict on the test set\n",
        "y_pred_lr = lr_model.predict(X_test)\n",
        "\n",
        "# Evaluate the model\n",
        "classification_rep_lr = classification_report(y_test, y_pred_lr, target_names=['Non-Fraud', 'Fraud'])\n",
        "roc_auc_lr = roc_auc_score(y_test, lr_model.predict_proba(X_test)[:, 1])\n",
        "\n",
        "classification_rep_lr, roc_auc_lr\n"
      ],
      "metadata": {
        "colab": {
          "base_uri": "https://localhost:8080/"
        },
        "id": "V8QPCOVJpF90",
        "outputId": "4cdcd672-ab95-4880-f324-37dc3be7d8a8"
      },
      "execution_count": 26,
      "outputs": [
        {
          "output_type": "execute_result",
          "data": {
            "text/plain": [
              "('              precision    recall  f1-score   support\\n\\n   Non-Fraud       1.00      0.99      0.99    212889\\n       Fraud       0.48      1.00      0.65      2698\\n\\n    accuracy                           0.99    215587\\n   macro avg       0.74      0.99      0.82    215587\\nweighted avg       0.99      0.99      0.99    215587\\n',\n",
              " 0.9994373375078083)"
            ]
          },
          "metadata": {},
          "execution_count": 26
        }
      ]
    },
    {
      "cell_type": "markdown",
      "source": [
        "###Logistic Regression Model Evaluation Results:\n",
        "\n",
        "####Logistic Regression Classifier Performance:\n",
        "\n",
        "Precision:\n",
        "\n",
        "* Non-Fraud: 0.99\n",
        "* Fraud: 0.58\n",
        "\n",
        "Recall:\n",
        "* Non-Fraud: 0.93\n",
        "* Fraud: 0.95\n",
        "\n",
        "F1-Score:\n",
        "* Non-Fraud: 0.96\n",
        "* Fraud: 0.72\n",
        "\n",
        "ROC-AUC: 0.9796\n",
        "\n",
        "The Logistic Regression model shows good performance, but its precision for fraud detection is relatively lower compared to recall, indicating it might flag many non-fraudulent transactions as fraudulent.\n",
        "\n"
      ],
      "metadata": {
        "id": "dc3audUJpf-4"
      }
    },
    {
      "cell_type": "markdown",
      "source": [
        "##Neural Network Model\n"
      ],
      "metadata": {
        "id": "3lvNGQcwp3FG"
      }
    },
    {
      "cell_type": "code",
      "source": [
        "import numpy as np\n",
        "from keras.models import Sequential\n",
        "from keras.layers import Dense\n",
        "from keras.utils import to_categorical\n",
        "\n",
        "# Convert target variable to categorical\n",
        "y_train_balanced_nn = to_categorical(y_train_balanced)\n",
        "y_test_nn = to_categorical(y_test)\n",
        "\n",
        "# Initialize the Neural Network model\n",
        "nn_model = Sequential()\n",
        "nn_model.add(Dense(16, input_dim=X_train_balanced.shape[1], activation='relu'))\n",
        "nn_model.add(Dense(8, activation='relu'))\n",
        "nn_model.add(Dense(2, activation='softmax'))\n",
        "\n",
        "# Compile the model\n",
        "nn_model.compile(loss='categorical_crossentropy', optimizer='adam', metrics=['accuracy'])\n",
        "\n",
        "# Train the model\n",
        "nn_model.fit(X_train_balanced, y_train_balanced_nn, epochs=10, batch_size=64, verbose=0)\n",
        "\n",
        "# Predict on the test set\n",
        "y_pred_nn_prob = nn_model.predict(X_test)\n",
        "y_pred_nn = np.argmax(y_pred_nn_prob, axis=1)\n",
        "\n",
        "# Evaluate the model\n",
        "classification_rep_nn = classification_report(y_test, y_pred_nn, target_names=['Non-Fraud', 'Fraud'])\n",
        "roc_auc_nn = roc_auc_score(y_test, y_pred_nn_prob[:, 1])\n",
        "\n",
        "classification_rep_nn, roc_auc_nn\n"
      ],
      "metadata": {
        "colab": {
          "base_uri": "https://localhost:8080/"
        },
        "id": "zXsvlF9_p42E",
        "outputId": "b07f02a0-31d4-422f-ebf9-c776360a0c97"
      },
      "execution_count": 27,
      "outputs": [
        {
          "output_type": "stream",
          "name": "stdout",
          "text": [
            "6738/6738 [==============================] - 9s 1ms/step\n"
          ]
        },
        {
          "output_type": "execute_result",
          "data": {
            "text/plain": [
              "('              precision    recall  f1-score   support\\n\\n   Non-Fraud       1.00      0.97      0.98    212889\\n       Fraud       0.29      1.00      0.45      2698\\n\\n    accuracy                           0.97    215587\\n   macro avg       0.65      0.98      0.72    215587\\nweighted avg       0.99      0.97      0.98    215587\\n',\n",
              " 0.9990689541762091)"
            ]
          },
          "metadata": {},
          "execution_count": 27
        }
      ]
    },
    {
      "cell_type": "markdown",
      "source": [
        "##Support Vector Machine (SVM)"
      ],
      "metadata": {
        "id": "9l3381eJrKfV"
      }
    },
    {
      "cell_type": "code",
      "source": [
        "from sklearn.svm import SVC\n",
        "\n",
        "# Initialize the SVM model\n",
        "svm_model = SVC(probability=True, random_state=42)\n",
        "\n",
        "# Train the model on the balanced training data\n",
        "svm_model.fit(X_train_balanced, y_train_balanced)\n",
        "\n",
        "# Predict on the test set\n",
        "y_pred_svm = svm_model.predict(X_test)\n",
        "\n",
        "# Evaluate the model\n",
        "classification_rep_svm = classification_report(y_test, y_pred_svm, target_names=['Non-Fraud', 'Fraud'])\n",
        "roc_auc_svm = roc_auc_score(y_test, svm_model.predict_proba(X_test)[:, 1])\n",
        "\n",
        "classification_rep_svm, roc_auc_svm"
      ],
      "metadata": {
        "id": "lDTjjmY1rMK2",
        "colab": {
          "base_uri": "https://localhost:8080/"
        },
        "outputId": "c9e22a88-c57e-4ee3-f888-b2bbf009ef45"
      },
      "execution_count": 28,
      "outputs": [
        {
          "output_type": "execute_result",
          "data": {
            "text/plain": [
              "('              precision    recall  f1-score   support\\n\\n   Non-Fraud       1.00      0.96      0.98    212889\\n       Fraud       0.25      1.00      0.40      2698\\n\\n    accuracy                           0.96    215587\\n   macro avg       0.63      0.98      0.69    215587\\nweighted avg       0.99      0.96      0.97    215587\\n',\n",
              " 0.9990844632206718)"
            ]
          },
          "metadata": {},
          "execution_count": 28
        }
      ]
    },
    {
      "cell_type": "markdown",
      "source": [
        "##Plot"
      ],
      "metadata": {
        "id": "TVM9mDPYsALa"
      }
    },
    {
      "cell_type": "code",
      "source": [
        "import matplotlib.pyplot as plt\n",
        "\n",
        "# Define the models and their ROC-AUC scores\n",
        "models = ['Random Forest', 'XGBoost', 'Logistic Regression', 'Neural Network', 'SVM']\n",
        "roc_auc_scores = [0.9999947891142706, 0.9996795157289377, 0.9994373375078083, 0.9990689541762091, 0.9990844632206718]\n",
        "\n",
        "# Create the plot\n",
        "plt.figure(figsize=(10, 6))\n",
        "plt.barh(models, roc_auc_scores, color=['blue', 'orange', 'navy', 'green', 'red'])\n",
        "plt.xlabel('ROC-AUC Score')\n",
        "plt.title('ROC-AUC Score Comparison of Different Models')\n",
        "plt.xlim(0.97, 1.00)\n",
        "for index, value in enumerate(roc_auc_scores):\n",
        "    plt.text(value, index, f\"{value:.7f}\")\n",
        "plt.show()"
      ],
      "metadata": {
        "colab": {
          "base_uri": "https://localhost:8080/",
          "height": 564
        },
        "id": "6kLMvvKisBsn",
        "outputId": "1bfc5aca-1230-4f14-a2fc-45db90c19f4a"
      },
      "execution_count": 30,
      "outputs": [
        {
          "output_type": "display_data",
          "data": {
            "text/plain": [
              "<Figure size 1000x600 with 1 Axes>"
            ],
            "image/png": "[encoded data removed]"
          },
          "metadata": {}
        }
      ]
    },
    {
      "cell_type": "markdown",
      "source": [
        "It looks like the Random Forest classifier performs the best"
      ],
      "metadata": {
        "id": "-zqLQTQ3Mjo4"
      }
    },
    {
      "cell_type": "markdown",
      "source": [
        "#Using unsupervised learning for fraud detection"
      ],
      "metadata": {
        "id": "tvS0jRqoM7Gt"
      }
    },
    {
      "cell_type": "code",
      "source": [
        "from sklearn.ensemble import IsolationForest\n",
        "\n",
        "\n",
        "# Selecting relevant features for the Isolation Forest model\n",
        "features = [\n",
        "    'distance_from_home',\n",
        "    'distance_from_last_transaction',\n",
        "    'ratio_to_median_purchase_price',\n",
        "    'repeat_retailer',\n",
        "    'used_chip',\n",
        "    'used_pin_number',\n",
        "    'online_order'\n",
        "]\n",
        "\n",
        "X = data[features]\n",
        "\n",
        "# Re-sampling the data to ensure a quick and efficient training process\n",
        "sampled_data = data.sample(frac=0.1, random_state=42)\n",
        "\n",
        "# Using the same features as before\n",
        "X_sampled = sampled_data[features]\n",
        "\n",
        "# Initialize the Isolation Forest model\n",
        "model = IsolationForest(contamination=0.1, random_state=42)\n",
        "\n",
        "# Train the model\n",
        "model.fit(X_sampled)\n",
        "\n",
        "# Predict anomalies on the entire dataset\n",
        "data['anomaly'] = model.predict(data[features])\n",
        "\n",
        "# Anomalies are marked as -1, normal transactions are marked as 1\n",
        "data['anomaly'] = data['anomaly'].apply(lambda x: 1 if x == -1 else 0)\n",
        "\n",
        "# Evaluate the results by comparing with the 'fraud' column\n",
        "evaluation = data[['fraud', 'anomaly']]\n",
        "\n",
        "\n",
        "evaluation.head()"
      ],
      "metadata": {
        "colab": {
          "base_uri": "https://localhost:8080/",
          "height": 262
        },
        "id": "CfGR1p-NNFtj",
        "outputId": "485844bf-79bb-4675-d5af-dcae472b0955"
      },
      "execution_count": 35,
      "outputs": [
        {
          "output_type": "stream",
          "name": "stderr",
          "text": [
            "/usr/local/lib/python3.10/dist-packages/sklearn/base.py:439: UserWarning: X does not have valid feature names, but IsolationForest was fitted with feature names\n",
            "  warnings.warn(\n"
          ]
        },
        {
          "output_type": "execute_result",
          "data": {
            "text/plain": [
              "   fraud  anomaly\n",
              "0    0.0        1\n",
              "1    0.0        0\n",
              "2    0.0        0\n",
              "3    0.0        0\n",
              "4    0.0        0"
            ],
            "text/html": [
              "\n",
              "  <div id=\"df-4ec963ff-6663-4df7-813c-91cb59fe1083\" class=\"colab-df-container\">\n",
              "    <div>\n",
              "<style scoped>\n",
              "    .dataframe tbody tr th:only-of-type {\n",
              "        vertical-align: middle;\n",
              "    }\n",
              "\n",
              "    .dataframe tbody tr th {\n",
              "        vertical-align: top;\n",
              "    }\n",
              "\n",
              "    .dataframe thead th {\n",
              "        text-align: right;\n",
              "    }\n",
              "</style>\n",
              "<table border=\"1\" class=\"dataframe\">\n",
              "  <thead>\n",
              "    <tr style=\"text-align: right;\">\n",
              "      <th></th>\n",
              "      <th>fraud</th>\n",
              "      <th>anomaly</th>\n",
              "    </tr>\n",
              "  </thead>\n",
              "  <tbody>\n",
              "    <tr>\n",
              "      <th>0</th>\n",
              "      <td>0.0</td>\n",
              "      <td>1</td>\n",
              "    </tr>\n",
              "    <tr>\n",
              "      <th>1</th>\n",
              "      <td>0.0</td>\n",
              "      <td>0</td>\n",
              "    </tr>\n",
              "    <tr>\n",
              "      <th>2</th>\n",
              "      <td>0.0</td>\n",
              "      <td>0</td>\n",
              "    </tr>\n",
              "    <tr>\n",
              "      <th>3</th>\n",
              "      <td>0.0</td>\n",
              "      <td>0</td>\n",
              "    </tr>\n",
              "    <tr>\n",
              "      <th>4</th>\n",
              "      <td>0.0</td>\n",
              "      <td>0</td>\n",
              "    </tr>\n",
              "  </tbody>\n",
              "</table>\n",
              "</div>\n",
              "    <div class=\"colab-df-buttons\">\n",
              "\n",
              "  <div class=\"colab-df-container\">\n",
              "    <button class=\"colab-df-convert\" onclick=\"convertToInteractive('df-4ec963ff-6663-4df7-813c-91cb59fe1083')\"\n",
              "            title=\"Convert this dataframe to an interactive table.\"\n",
              "            style=\"display:none;\">\n",
              "\n",
              "  <svg xmlns=\"http://www.w3.org/2000/svg\" height=\"24px\" viewBox=\"0 -960 960 960\">\n",
              "    <path d=\"M120-120v-720h720v720H120Zm60-500h600v-160H180v160Zm220 220h160v-160H400v160Zm0 220h160v-160H400v160ZM180-400h160v-160H180v160Zm440 0h160v-160H620v160ZM180-180h160v-160H180v160Zm440 0h160v-160H620v160Z\"/>\n",
              "  </svg>\n",
              "    </button>\n",
              "\n",
              "  <style>\n",
              "    .colab-df-container {\n",
              "      display:flex;\n",
              "      gap: 12px;\n",
              "    }\n",
              "\n",
              "    .colab-df-convert {\n",
              "      background-color: #E8F0FE;\n",
              "      border: none;\n",
              "      border-radius: 50%;\n",
              "      cursor: pointer;\n",
              "      display: none;\n",
              "      fill: #1967D2;\n",
              "      height: 32px;\n",
              "      padding: 0 0 0 0;\n",
              "      width: 32px;\n",
              "    }\n",
              "\n",
              "    .colab-df-convert:hover {\n",
              "      background-color: #E2EBFA;\n",
              "      box-shadow: 0px 1px 2px rgba(60, 64, 67, 0.3), 0px 1px 3px 1px rgba(60, 64, 67, 0.15);\n",
              "      fill: #174EA6;\n",
              "    }\n",
              "\n",
              "    .colab-df-buttons div {\n",
              "      margin-bottom: 4px;\n",
              "    }\n",
              "\n",
              "    [theme=dark] .colab-df-convert {\n",
              "      background-color: #3B4455;\n",
              "      fill: #D2E3FC;\n",
              "    }\n",
              "\n",
              "    [theme=dark] .colab-df-convert:hover {\n",
              "      background-color: #434B5C;\n",
              "      box-shadow: 0px 1px 3px 1px rgba(0, 0, 0, 0.15);\n",
              "      filter: drop-shadow(0px 1px 2px rgba(0, 0, 0, 0.3));\n",
              "      fill: #FFFFFF;\n",
              "    }\n",
              "  </style>\n",
              "\n",
              "    <script>\n",
              "      const buttonEl =\n",
              "        document.querySelector('#df-4ec963ff-6663-4df7-813c-91cb59fe1083 button.colab-df-convert');\n",
              "      buttonEl.style.display =\n",
              "        google.colab.kernel.accessAllowed ? 'block' : 'none';\n",
              "\n",
              "      async function convertToInteractive(key) {\n",
              "        const element = document.querySelector('#df-4ec963ff-6663-4df7-813c-91cb59fe1083');\n",
              "        const dataTable =\n",
              "          await google.colab.kernel.invokeFunction('convertToInteractive',\n",
              "                                                    [key], {});\n",
              "        if (!dataTable) return;\n",
              "\n",
              "        const docLinkHtml = 'Like what you see? Visit the ' +\n",
              "          '<a target=\"_blank\" href=https://colab.research.google.com/notebooks/data_table.ipynb>data table notebook</a>'\n",
              "          + ' to learn more about interactive tables.';\n",
              "        element.innerHTML = '';\n",
              "        dataTable['output_type'] = 'display_data';\n",
              "        await google.colab.output.renderOutput(dataTable, element);\n",
              "        const docLink = document.createElement('div');\n",
              "        docLink.innerHTML = docLinkHtml;\n",
              "        element.appendChild(docLink);\n",
              "      }\n",
              "    </script>\n",
              "  </div>\n",
              "\n",
              "\n",
              "<div id=\"df-310a5106-27e4-4a6e-8c3b-08e2070427df\">\n",
              "  <button class=\"colab-df-quickchart\" onclick=\"quickchart('df-310a5106-27e4-4a6e-8c3b-08e2070427df')\"\n",
              "            title=\"Suggest charts\"\n",
              "            style=\"display:none;\">\n",
              "\n",
              "<svg xmlns=\"http://www.w3.org/2000/svg\" height=\"24px\"viewBox=\"0 0 24 24\"\n",
              "     width=\"24px\">\n",
              "    <g>\n",
              "        <path d=\"M19 3H5c-1.1 0-2 .9-2 2v14c0 1.1.9 2 2 2h14c1.1 0 2-.9 2-2V5c0-1.1-.9-2-2-2zM9 17H7v-7h2v7zm4 0h-2V7h2v10zm4 0h-2v-4h2v4z\"/>\n",
              "    </g>\n",
              "</svg>\n",
              "  </button>\n",
              "\n",
              "<style>\n",
              "  .colab-df-quickchart {\n",
              "      --bg-color: #E8F0FE;\n",
              "      --fill-color: #1967D2;\n",
              "      --hover-bg-color: #E2EBFA;\n",
              "      --hover-fill-color: #174EA6;\n",
              "      --disabled-fill-color: #AAA;\n",
              "      --disabled-bg-color: #DDD;\n",
              "  }\n",
              "\n",
              "  [theme=dark] .colab-df-quickchart {\n",
              "      --bg-color: #3B4455;\n",
              "      --fill-color: #D2E3FC;\n",
              "      --hover-bg-color: #434B5C;\n",
              "      --hover-fill-color: #FFFFFF;\n",
              "      --disabled-bg-color: #3B4455;\n",
              "      --disabled-fill-color: #666;\n",
              "  }\n",
              "\n",
              "  .colab-df-quickchart {\n",
              "    background-color: var(--bg-color);\n",
              "    border: none;\n",
              "    border-radius: 50%;\n",
              "    cursor: pointer;\n",
              "    display: none;\n",
              "    fill: var(--fill-color);\n",
              "    height: 32px;\n",
              "    padding: 0;\n",
              "    width: 32px;\n",
              "  }\n",
              "\n",
              "  .colab-df-quickchart:hover {\n",
              "    background-color: var(--hover-bg-color);\n",
              "    box-shadow: 0 1px 2px rgba(60, 64, 67, 0.3), 0 1px 3px 1px rgba(60, 64, 67, 0.15);\n",
              "    fill: var(--button-hover-fill-color);\n",
              "  }\n",
              "\n",
              "  .colab-df-quickchart-complete:disabled,\n",
              "  .colab-df-quickchart-complete:disabled:hover {\n",
              "    background-color: var(--disabled-bg-color);\n",
              "    fill: var(--disabled-fill-color);\n",
              "    box-shadow: none;\n",
              "  }\n",
              "\n",
              "  .colab-df-spinner {\n",
              "    border: 2px solid var(--fill-color);\n",
              "    border-color: transparent;\n",
              "    border-bottom-color: var(--fill-color);\n",
              "    animation:\n",
              "      spin 1s steps(1) infinite;\n",
              "  }\n",
              "\n",
              "  @keyframes spin {\n",
              "    0% {\n",
              "      border-color: transparent;\n",
              "      border-bottom-color: var(--fill-color);\n",
              "      border-left-color: var(--fill-color);\n",
              "    }\n",
              "    20% {\n",
              "      border-color: transparent;\n",
              "      border-left-color: var(--fill-color);\n",
              "      border-top-color: var(--fill-color);\n",
              "    }\n",
              "    30% {\n",
              "      border-color: transparent;\n",
              "      border-left-color: var(--fill-color);\n",
              "      border-top-color: var(--fill-color);\n",
              "      border-right-color: var(--fill-color);\n",
              "    }\n",
              "    40% {\n",
              "      border-color: transparent;\n",
              "      border-right-color: var(--fill-color);\n",
              "      border-top-color: var(--fill-color);\n",
              "    }\n",
              "    60% {\n",
              "      border-color: transparent;\n",
              "      border-right-color: var(--fill-color);\n",
              "    }\n",
              "    80% {\n",
              "      border-color: transparent;\n",
              "      border-right-color: var(--fill-color);\n",
              "      border-bottom-color: var(--fill-color);\n",
              "    }\n",
              "    90% {\n",
              "      border-color: transparent;\n",
              "      border-bottom-color: var(--fill-color);\n",
              "    }\n",
              "  }\n",
              "</style>\n",
              "\n",
              "  <script>\n",
              "    async function quickchart(key) {\n",
              "      const quickchartButtonEl =\n",
              "        document.querySelector('#' + key + ' button');\n",
              "      quickchartButtonEl.disabled = true;  // To prevent multiple clicks.\n",
              "      quickchartButtonEl.classList.add('colab-df-spinner');\n",
              "      try {\n",
              "        const charts = await google.colab.kernel.invokeFunction(\n",
              "            'suggestCharts', [key], {});\n",
              "      } catch (error) {\n",
              "        console.error('Error during call to suggestCharts:', error);\n",
              "      }\n",
              "      quickchartButtonEl.classList.remove('colab-df-spinner');\n",
              "      quickchartButtonEl.classList.add('colab-df-quickchart-complete');\n",
              "    }\n",
              "    (() => {\n",
              "      let quickchartButtonEl =\n",
              "        document.querySelector('#df-310a5106-27e4-4a6e-8c3b-08e2070427df button');\n",
              "      quickchartButtonEl.style.display =\n",
              "        google.colab.kernel.accessAllowed ? 'block' : 'none';\n",
              "    })();\n",
              "  </script>\n",
              "</div>\n",
              "    </div>\n",
              "  </div>\n"
            ],
            "application/vnd.google.colaboratory.intrinsic+json": {
              "type": "dataframe",
              "variable_name": "evaluation"
            }
          },
          "metadata": {},
          "execution_count": 35
        }
      ]
    },
    {
      "cell_type": "code",
      "source": [
        "from sklearn.metrics import classification_report\n",
        "\n",
        "# Generate classification report\n",
        "report = classification_report(data['fraud'], data['anomaly'], target_names=['Non-Fraud', 'Fraud'])\n",
        "\n",
        "# Print the classification report\n",
        "print(report)"
      ],
      "metadata": {
        "colab": {
          "base_uri": "https://localhost:8080/"
        },
        "id": "yyBt2ur2Qg67",
        "outputId": "27363240-f58f-4eee-e9b1-53b567bf4b9e"
      },
      "execution_count": 36,
      "outputs": [
        {
          "output_type": "stream",
          "name": "stdout",
          "text": [
            "              precision    recall  f1-score   support\n",
            "\n",
            "   Non-Fraud       0.99      0.90      0.94    709631\n",
            "       Fraud       0.03      0.25      0.05      8992\n",
            "\n",
            "    accuracy                           0.89    718623\n",
            "   macro avg       0.51      0.58      0.50    718623\n",
            "weighted avg       0.98      0.89      0.93    718623\n",
            "\n"
          ]
        }
      ]
    },
    {
      "cell_type": "markdown",
      "source": [
        "###Neural Networks with LSTM autoencoders"
      ],
      "metadata": {
        "id": "H4_9kjkpQ5M-"
      }
    },
    {
      "cell_type": "code",
      "source": [
        "import numpy as np\n",
        "import pandas as pd\n",
        "from sklearn.preprocessing import StandardScaler\n",
        "from sklearn.metrics import classification_report\n",
        "import tensorflow as tf\n",
        "from tensorflow.keras.models import Sequential\n",
        "from tensorflow.keras.layers import LSTM, RepeatVector, TimeDistributed, Dense\n",
        "\n",
        "# Normalize the data\n",
        "scaler = StandardScaler()\n",
        "X_scaled = scaler.fit_transform(X)\n",
        "\n",
        "# Reshape the data to fit the LSTM model (samples, timesteps, features)\n",
        "X_reshaped = X_scaled.reshape((X_scaled.shape[0], 1, X_scaled.shape[1]))\n",
        "\n",
        "# Build the LSTM autoencoder model\n",
        "model = Sequential([\n",
        "    LSTM(64, activation='relu', input_shape=(X_reshaped.shape[1], X_reshaped.shape[2]), return_sequences=True),\n",
        "    LSTM(32, activation='relu', return_sequences=False),\n",
        "    RepeatVector(X_reshaped.shape[1]),\n",
        "    LSTM(32, activation='relu', return_sequences=True),\n",
        "    LSTM(64, activation='relu', return_sequences=True),\n",
        "    TimeDistributed(Dense(X_reshaped.shape[2]))\n",
        "])\n",
        "\n",
        "model.compile(optimizer='adam', loss='mse')\n",
        "model.summary()\n",
        "\n",
        "# Train the model\n",
        "history = model.fit(X_reshaped, X_reshaped, epochs=10, batch_size=32, validation_split=0.2, verbose=1)\n",
        "\n",
        "# Use the trained model to reconstruct the data\n",
        "X_pred = model.predict(X_reshaped)\n",
        "\n",
        "# Calculate the reconstruction error\n",
        "mse = np.mean(np.power(X_reshaped - X_pred, 2), axis=1)\n",
        "\n",
        "# Determine a threshold for anomalies\n",
        "threshold = np.percentile(mse, 95)  # Adjust the threshold as needed\n",
        "\n",
        "# Detect anomalies\n",
        "data['anomaly'] = mse > threshold\n",
        "\n",
        "# Evaluate the results\n",
        "evaluation = classification_report(data['fraud'], data['anomaly'], target_names=['Non-Fraud', 'Fraud'])\n",
        "\n",
        "print(evaluation)"
      ],
      "metadata": {
        "colab": {
          "base_uri": "https://localhost:8080/"
        },
        "id": "CaSPfilHQ7oa",
        "outputId": "ec9b231f-5ac1-4d16-e3be-d1449d7292b4"
      },
      "execution_count": 38,
      "outputs": [
        {
          "output_type": "stream",
          "name": "stdout",
          "text": [
            "Model: \"sequential_1\"\n",
            "_________________________________________________________________\n",
            " Layer (type)                Output Shape              Param #   \n",
            "=================================================================\n",
            " lstm (LSTM)                 (None, 1, 64)             18432     \n",
            "                                                                 \n",
            " lstm_1 (LSTM)               (None, 32)                12416     \n",
            "                                                                 \n",
            " repeat_vector (RepeatVecto  (None, 1, 32)             0         \n",
            " r)                                                              \n",
            "                                                                 \n",
            " lstm_2 (LSTM)               (None, 1, 32)             8320      \n",
            "                                                                 \n",
            " lstm_3 (LSTM)               (None, 1, 64)             24832     \n",
            "                                                                 \n",
            " time_distributed (TimeDist  (None, 1, 7)              455       \n",
            " ributed)                                                        \n",
            "                                                                 \n",
            "=================================================================\n",
            "Total params: 64455 (251.78 KB)\n",
            "Trainable params: 64455 (251.78 KB)\n",
            "Non-trainable params: 0 (0.00 Byte)\n",
            "_________________________________________________________________\n",
            "Epoch 1/10\n",
            "17966/17966 [==============================] - 132s 7ms/step - loss: 0.0131 - val_loss: 1.5512e-04\n",
            "Epoch 2/10\n",
            "17966/17966 [==============================] - 139s 8ms/step - loss: 1.5742e-04 - val_loss: 1.2278e-04\n",
            "Epoch 3/10\n",
            "17966/17966 [==============================] - 133s 7ms/step - loss: 1.1591e-04 - val_loss: 1.0445e-04\n",
            "Epoch 4/10\n",
            "17966/17966 [==============================] - 134s 7ms/step - loss: 9.5547e-05 - val_loss: 6.8014e-05\n",
            "Epoch 5/10\n",
            "17966/17966 [==============================] - 125s 7ms/step - loss: 8.3113e-05 - val_loss: 3.6913e-05\n",
            "Epoch 6/10\n",
            "17966/17966 [==============================] - 151s 8ms/step - loss: 7.2999e-05 - val_loss: 4.5008e-05\n",
            "Epoch 7/10\n",
            "17966/17966 [==============================] - 121s 7ms/step - loss: 6.6441e-05 - val_loss: 4.0103e-05\n",
            "Epoch 8/10\n",
            "17966/17966 [==============================] - 140s 8ms/step - loss: 5.8622e-05 - val_loss: 4.5635e-05\n",
            "Epoch 9/10\n",
            "17966/17966 [==============================] - 120s 7ms/step - loss: 6.2773e-05 - val_loss: 2.8629e-05\n",
            "Epoch 10/10\n",
            "17966/17966 [==============================] - 127s 7ms/step - loss: 5.1501e-05 - val_loss: 2.3878e-05\n",
            "22457/22457 [==============================] - 60s 3ms/step\n",
            "              precision    recall  f1-score   support\n",
            "\n",
            "   Non-Fraud       0.99      0.92      0.95    709631\n",
            "       Fraud       0.05      0.34      0.09      8992\n",
            "\n",
            "    accuracy                           0.91    718623\n",
            "   macro avg       0.52      0.63      0.52    718623\n",
            "weighted avg       0.98      0.91      0.94    718623\n",
            "\n"
          ]
        }
      ]
    },
    {
      "cell_type": "markdown",
      "source": [
        "###One class SVM"
      ],
      "metadata": {
        "id": "cbmwpjgQUAhz"
      }
    },
    {
      "cell_type": "code",
      "source": [
        "import pandas as pd\n",
        "from sklearn.preprocessing import StandardScaler\n",
        "from sklearn.svm import OneClassSVM\n",
        "from sklearn.metrics import classification_report\n",
        "\n",
        "# Normalize the data\n",
        "scaler = StandardScaler()\n",
        "X_scaled = scaler.fit_transform(X)\n",
        "\n",
        "# Initialize the One-Class SVM model\n",
        "model = OneClassSVM(nu=0.1, kernel=\"rbf\", gamma=0.1)\n",
        "\n",
        "# Train the model\n",
        "model.fit(X_scaled)\n",
        "\n",
        "# Predict anomalies\n",
        "data['anomaly'] = model.predict(X_scaled)\n",
        "\n",
        "# Anomalies are marked as -1, normal transactions are marked as 1\n",
        "data['anomaly'] = data['anomaly'].apply(lambda x: 1 if x == -1 else 0)\n",
        "\n",
        "# Evaluate the results by comparing with the 'fraud' column\n",
        "evaluation = classification_report(data['fraud'], data['anomaly'], target_names=['Non-Fraud', 'Fraud'])\n",
        "\n",
        "print(evaluation)"
      ],
      "metadata": {
        "id": "V_5jUbRcUDRE"
      },
      "execution_count": null,
      "outputs": []
    },
    {
      "cell_type": "markdown",
      "source": [
        "#Summary"
      ],
      "metadata": {
        "id": "uX95mc6lQ_qT"
      }
    },
    {
      "cell_type": "markdown",
      "source": [
        "##Performance\n",
        "\n",
        "1. **Random Forest**:\n",
        "   - **ROC-AUC**: 0.99999996\n",
        "   - Extremely high performance, indicating it can effectively distinguish between fraudulent and non-fraudulent transactions.\n",
        "\n",
        "2. **XGBoost**:\n",
        "   - **ROC-AUC**: 0.99990074\n",
        "   - Nearly matches the Random Forest in performance, suggesting it is also a very robust choice for fraud detection.\n",
        "\n",
        "3. **Logistic Regression**:\n",
        "   - **ROC-AUC**: 0.97958758\n",
        "   - Performs well but not as strong as the other models, making it a simpler, more interpretable option with slightly less efficacy.\n",
        "\n",
        "4. **SVM**:\n",
        "   - **ROC-AUC**: 0.9990844632206718\n",
        "   - Another strong contender, demonstrating high accuracy and robustness.\n",
        "\n",
        "#### Considerations for Model Selection:\n",
        "\n",
        "- **Interpretability**: Logistic Regression offers more transparency and is easier to interpret, which can be valuable in understanding the model's decisions and gaining regulatory approval.\n",
        "- **Performance**: Random Forest, XGBoost, and SVM provide excellent detection capabilities with high ROC-AUC scores, making them suitable for maximizing detection rates.\n",
        "- **Complexity and Resources**: More complex models like Random Forest and XGBoost require more computational resources for training and might be harder to deploy and maintain compared to simpler models like Logistic Regression.\n",
        "- **Overfitting**: The extremely high scores suggest potential overfitting. It's crucial to validate these models in real-world settings and possibly regularize or tune them further to ensure they generalize well to new data.\n",
        "\n",
        "#### Recommendations:\n",
        "\n",
        "1. **Deployment**: Given the high performance of Random Forest and XGBoost, they are strong candidates for deployment. SVM can also be considered if the performance difference is negligible in practical applications.\n",
        "2. **Monitoring**: Implement a robust monitoring system to track model performance and update models as new transaction data becomes available.\n",
        "3. **Validation**: Continuously validate the models against new, real-world data to ensure they maintain high performance and generalize well beyond the training data.\n",
        "4. **Combination Approach**: Consider using an ensemble of these models to leverage the strengths of each and further improve detection accuracy.\n",
        "\n",
        "By carefully evaluating the trade-offs between performance, interpretability, and resource requirements, the best model for this specific needs can be selected and deployed effectively to mitigate financial fraud."
      ],
      "metadata": {
        "id": "iqOhFCIpRCti"
      }
    }
  ]
}